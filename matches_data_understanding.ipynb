{
 "cells": [
  {
   "cell_type": "markdown",
   "id": "fb6f876b",
   "metadata": {},
   "source": [
    "<span>\n",
    "<b>Authors:</b> \n",
    "<a href=\"http://------\">Ornela Danushi </a>\n",
    "<a href=\"http://------\">Gerlando Gramaglia </a>\n",
    "<a href=\"http://------\">Domenico Profumo </a><br/>\n",
    "<b>Python version:</b>  3.x<br/>\n",
    "</span>"
   ]
  },
  {
   "cell_type": "markdown",
   "id": "2eae0051",
   "metadata": {
    "tags": []
   },
   "source": [
    "# Data Understanding & Preparation on Tennis Matches dataset \n",
    "Explore the dataset by studying the data quality, their distribution among several different features and the correlations.\n",
    "\n",
    "The **central component** of the data science toolkit is **Pandas library** is a and it is used in conjunction with other libraries in that collection. Pandas is built on top of the **NumPy package**, meaning a lot of the structure of NumPy is used or replicated in Pandas. Data in pandas is often used to feed statistical analysis in **SciPy**, plotting functions from **Matplotlib**, and machine learning algorithms in Scikit-learn.\n",
    "\n",
    "**Install Pandas**\n",
    "\n",
    "Pandas is an easy package to install. Open up your terminal program (for Mac users) or command line (for PC users) and install it using either of the following commands: **conda install pandas OR pip install pandas.**\n",
    "\n",
    "Alternatively, if you're using Jupyter notebook you can run a cell with: **!pip install pandas**"
   ]
  },
  {
   "cell_type": "code",
   "execution_count": 2,
   "id": "d010f341",
   "metadata": {
    "tags": []
   },
   "outputs": [],
   "source": [
    "import pandas as pd\n",
    "import math\n",
    "import numpy as np\n",
    "import scipy.stats as stats\n",
    "import matplotlib.pyplot as plt\n",
    "plt.rcParams.update({'figure.max_open_warning': 0})\n",
    "from collections import defaultdict\n",
    "from scipy.stats.stats import pearsonr"
   ]
  },
  {
   "cell_type": "code",
   "execution_count": null,
   "id": "ada3fc3f",
   "metadata": {
    "tags": []
   },
   "outputs": [],
   "source": [
    "#df.dtypes #return the type of each attribute but is already included in the df.info() called later"
   ]
  },
  {
   "cell_type": "markdown",
   "id": "b6d917a0",
   "metadata": {},
   "source": [
    "# Types of Attributes and basic checks \n",
    "## Data Quality with reference to Syntactic Accuracy\n",
    "\n",
    "Check the data integrity, that is whether there are any empty cells or corrupted data. \n",
    "We will use for this purpose the Pandas function **info()**, which checks if there is any \n",
    "null value in any column. This function also checks data type for each column, as well as \n",
    "number of each data types and number of observations (rows).\n",
    "\n",
    "Moreover we check if each attribute is syntactically correct according to the specifications"
   ]
  },
  {
   "cell_type": "code",
   "execution_count": 4,
   "id": "b89625d5",
   "metadata": {
    "scrolled": true
   },
   "outputs": [
    {
     "name": "stdout",
     "output_type": "stream",
     "text": [
      "<class 'pandas.core.frame.DataFrame'>\n",
      "Int64Index: 186128 entries, 0 to 186127\n",
      "Data columns (total 51 columns):\n",
      " #   Column              Non-Null Count   Dtype  \n",
      "---  ------              --------------   -----  \n",
      " 0   tourney_id          186073 non-null  object \n",
      " 1   tourney_name        186103 non-null  object \n",
      " 2   surface             185940 non-null  object \n",
      " 3   draw_size           186099 non-null  float64\n",
      " 4   tourney_level       186099 non-null  object \n",
      " 5   tourney_date        186100 non-null  float64\n",
      " 6   match_num           186101 non-null  float64\n",
      " 7   winner_id           186073 non-null  float64\n",
      " 8   winner_entry        25827 non-null   object \n",
      " 9   winner_name         186101 non-null  object \n",
      " 10  winner_hand         186082 non-null  object \n",
      " 11  winner_ht           49341 non-null   float64\n",
      " 12  winner_ioc          186099 non-null  object \n",
      " 13  winner_age          183275 non-null  float64\n",
      " 14  loser_id            186100 non-null  float64\n",
      " 15  loser_entry         44154 non-null   object \n",
      " 16  loser_name          186097 non-null  object \n",
      " 17  loser_hand          186030 non-null  object \n",
      " 18  loser_ht            38348 non-null   float64\n",
      " 19  loser_ioc           186102 non-null  object \n",
      " 20  loser_age           179590 non-null  float64\n",
      " 21  score               185929 non-null  object \n",
      " 22  best_of             186099 non-null  float64\n",
      " 23  round               186098 non-null  object \n",
      " 24  minutes             81660 non-null   float64\n",
      " 25  w_ace               82310 non-null   float64\n",
      " 26  w_df                82312 non-null   float64\n",
      " 27  w_svpt              82310 non-null   float64\n",
      " 28  w_1stIn             82310 non-null   float64\n",
      " 29  w_1stWon            82312 non-null   float64\n",
      " 30  w_2ndWon            82309 non-null   float64\n",
      " 31  w_SvGms             82311 non-null   float64\n",
      " 32  w_bpSaved           82315 non-null   float64\n",
      " 33  w_bpFaced           82312 non-null   float64\n",
      " 34  l_ace               82313 non-null   float64\n",
      " 35  l_df                82319 non-null   float64\n",
      " 36  l_svpt              82315 non-null   float64\n",
      " 37  l_1stIn             82304 non-null   float64\n",
      " 38  l_1stWon            82311 non-null   float64\n",
      " 39  l_2ndWon            82312 non-null   float64\n",
      " 40  l_SvGms             82318 non-null   float64\n",
      " 41  l_bpSaved           82311 non-null   float64\n",
      " 42  l_bpFaced           82306 non-null   float64\n",
      " 43  winner_rank         166719 non-null  float64\n",
      " 44  winner_rank_points  166701 non-null  float64\n",
      " 45  loser_rank          150845 non-null  float64\n",
      " 46  loser_rank_points   150828 non-null  float64\n",
      " 47  tourney_spectators  186101 non-null  float64\n",
      " 48  tourney_revenue     186102 non-null  float64\n",
      " 49  winner_gender       183424 non-null  object \n",
      " 50  loser_gender        183999 non-null  object \n",
      "dtypes: float64(35), object(16)\n",
      "memory usage: 73.8+ MB\n"
     ]
    }
   ],
   "source": [
    "df = pd.read_csv('matches_with_gender.csv', index_col = 0)\n",
    "df.info()"
   ]
  },
  {
   "cell_type": "markdown",
   "id": "3eef7633",
   "metadata": {},
   "source": [
    "\n"
   ]
  },
  {
   "cell_type": "markdown",
   "id": "e9fe0db4",
   "metadata": {},
   "source": [
    "## Classification of Data Domain\n",
    "\n",
    "We split our dataset in 3 subsets for commodity, just to vizualise the attributes in a more clear way.\n",
    "\n",
    "### Tourney\n",
    "\n",
    "     - *tourney_id* - ***object*** \n",
    "     - *tourney_name* - ***object*** \n",
    "     - *tourney_level* - ***object***\n",
    "     - *tourney_spectators* - ***float64*** \n",
    "     - *tourney_revenue* - ***float64***\n",
    "    \n",
    " ### Matches\n",
    " \n",
    "     - *match_num*- ***float64***\n",
    "     - *surface* - ***object***\n",
    "     - *draw_size* - ***float64*** => ***int64*** \n",
    "     - *tourney_date* - ***float64*** => ***Datetime64***\n",
    "     - *minutes* - ***float64*** \n",
    "     - *score* - ***object***\n",
    "     - *round* - ***object** \n",
    "     - *best_of* - ***float64***\n",
    "\n",
    " ### Players\n",
    " \n",
    "    - *winner_id*- ***float64***           - *loser_id*- ***float64*** \n",
    "    - *winner_name* - ***object***         - *loser_name* - ***object***\n",
    "    - *winner_ioc* - ***object***          - *loser_ioc* - ***object*** \n",
    "    - *winner_ht*- ***float64***           - *loser_ht*- ***float64*** \n",
    "    - *winner_age*- ***float64***          - *loser_age*- ***float64*** \n",
    "    - *winner_hand* - ***object***         - *loser_hand* - ***object***\n",
    "    - *winner_entry* - ***object***        - *loser_entry* - ***object***\n",
    "    - *winner_rank* - ***float64***        - *loser_rank* - ***float64***\n",
    "    - *winner_rank_points* - ***float64*** - *loser_rank_points* - ***float64***\n",
    "    - *w_ace* - ***float64***              - *l_ace* - ***float64***\n",
    "    - *w_df* - ***float64***               - *l_df* - ***float64***\n",
    "    - *w_svpt* - ***float64***             - *l_svpt* - ***float64***\n",
    "    - *w_1stIn* - ***float64***            - *l_1stIn* - ***float64***\n",
    "    - *w_1stWon* - ***float64***           - *l_1stWon* - ***float64***\n",
    "    - *w_2ndWon* - ***float64***           - *l_2ndWon* - ***float64***\n",
    "    - *w_SvGms* - ***float64***            - *l_SvGms* - ***float64***\n",
    "    - *w_bpSaved* - ***float64***          - *l_bpSaved* - ***float64***\n",
    "    - *w_bpFaced* - ***float64***          - *l_bpFaced* - ***float64*** \n",
    "    - *winner_gender* - ***object***      - *loser_gender* - ***object*** \n",
    " "
   ]
  },
  {
   "cell_type": "markdown",
   "id": "808cd385-1265-461a-8d11-922e12f3908c",
   "metadata": {},
   "source": [
    "## Data Statistics and Data Distributions\n",
    "\n",
    "The pandas function describe() is used to obtain basic statistical notions. By specifying the include attribute as 'all' we get statistics both for the numerical and categorical attributes of the dataset.\n",
    "\n",
    "The pandas function memory_usage() returns a Pandas Series having the memory usage of each column (in bytes) in a Pandas DataFrame. By specifying the deep attribute as True, we can get to know the actual space being taken by each column.\n",
    "\n",
    "The pandas function unique() is used to obtain the values of composition. By which we can view NaN, empty values .. from the acceptable ones, where this can help to understand something more."
   ]
  },
  {
   "cell_type": "code",
   "execution_count": 5,
   "id": "bc317fc1-9f62-4a2f-86d2-35eb0183b652",
   "metadata": {},
   "outputs": [
    {
     "data": {
      "text/html": [
       "<div>\n",
       "<style scoped>\n",
       "    .dataframe tbody tr th:only-of-type {\n",
       "        vertical-align: middle;\n",
       "    }\n",
       "\n",
       "    .dataframe tbody tr th {\n",
       "        vertical-align: top;\n",
       "    }\n",
       "\n",
       "    .dataframe thead th {\n",
       "        text-align: right;\n",
       "    }\n",
       "</style>\n",
       "<table border=\"1\" class=\"dataframe\">\n",
       "  <thead>\n",
       "    <tr style=\"text-align: right;\">\n",
       "      <th></th>\n",
       "      <th>tourney_id</th>\n",
       "      <th>tourney_name</th>\n",
       "      <th>surface</th>\n",
       "      <th>draw_size</th>\n",
       "      <th>tourney_level</th>\n",
       "      <th>tourney_date</th>\n",
       "      <th>match_num</th>\n",
       "      <th>winner_id</th>\n",
       "      <th>winner_entry</th>\n",
       "      <th>winner_name</th>\n",
       "      <th>...</th>\n",
       "      <th>l_bpSaved</th>\n",
       "      <th>l_bpFaced</th>\n",
       "      <th>winner_rank</th>\n",
       "      <th>winner_rank_points</th>\n",
       "      <th>loser_rank</th>\n",
       "      <th>loser_rank_points</th>\n",
       "      <th>tourney_spectators</th>\n",
       "      <th>tourney_revenue</th>\n",
       "      <th>winner_gender</th>\n",
       "      <th>loser_gender</th>\n",
       "    </tr>\n",
       "  </thead>\n",
       "  <tbody>\n",
       "    <tr>\n",
       "      <th>count</th>\n",
       "      <td>186073</td>\n",
       "      <td>186103</td>\n",
       "      <td>185940</td>\n",
       "      <td>186099.00</td>\n",
       "      <td>186099</td>\n",
       "      <td>186100.00</td>\n",
       "      <td>186101.00</td>\n",
       "      <td>186073.00</td>\n",
       "      <td>25827</td>\n",
       "      <td>186101</td>\n",
       "      <td>...</td>\n",
       "      <td>82311.00</td>\n",
       "      <td>82306.00</td>\n",
       "      <td>166719.00</td>\n",
       "      <td>166701.00</td>\n",
       "      <td>150845.00</td>\n",
       "      <td>150828.00</td>\n",
       "      <td>186101.00</td>\n",
       "      <td>186102.00</td>\n",
       "      <td>183424</td>\n",
       "      <td>183999</td>\n",
       "    </tr>\n",
       "    <tr>\n",
       "      <th>unique</th>\n",
       "      <td>4853</td>\n",
       "      <td>2488</td>\n",
       "      <td>4</td>\n",
       "      <td>NaN</td>\n",
       "      <td>19</td>\n",
       "      <td>NaN</td>\n",
       "      <td>NaN</td>\n",
       "      <td>NaN</td>\n",
       "      <td>15</td>\n",
       "      <td>6180</td>\n",
       "      <td>...</td>\n",
       "      <td>NaN</td>\n",
       "      <td>NaN</td>\n",
       "      <td>NaN</td>\n",
       "      <td>NaN</td>\n",
       "      <td>NaN</td>\n",
       "      <td>NaN</td>\n",
       "      <td>NaN</td>\n",
       "      <td>NaN</td>\n",
       "      <td>3</td>\n",
       "      <td>3</td>\n",
       "    </tr>\n",
       "    <tr>\n",
       "      <th>top</th>\n",
       "      <td>2016-560</td>\n",
       "      <td>W15 Antalya</td>\n",
       "      <td>Hard</td>\n",
       "      <td>NaN</td>\n",
       "      <td>15</td>\n",
       "      <td>NaN</td>\n",
       "      <td>NaN</td>\n",
       "      <td>NaN</td>\n",
       "      <td>Q</td>\n",
       "      <td>Novak Djokovic</td>\n",
       "      <td>...</td>\n",
       "      <td>NaN</td>\n",
       "      <td>NaN</td>\n",
       "      <td>NaN</td>\n",
       "      <td>NaN</td>\n",
       "      <td>NaN</td>\n",
       "      <td>NaN</td>\n",
       "      <td>NaN</td>\n",
       "      <td>NaN</td>\n",
       "      <td>F</td>\n",
       "      <td>F</td>\n",
       "    </tr>\n",
       "    <tr>\n",
       "      <th>freq</th>\n",
       "      <td>478</td>\n",
       "      <td>4634</td>\n",
       "      <td>95243</td>\n",
       "      <td>NaN</td>\n",
       "      <td>45807</td>\n",
       "      <td>NaN</td>\n",
       "      <td>NaN</td>\n",
       "      <td>NaN</td>\n",
       "      <td>13575</td>\n",
       "      <td>289</td>\n",
       "      <td>...</td>\n",
       "      <td>NaN</td>\n",
       "      <td>NaN</td>\n",
       "      <td>NaN</td>\n",
       "      <td>NaN</td>\n",
       "      <td>NaN</td>\n",
       "      <td>NaN</td>\n",
       "      <td>NaN</td>\n",
       "      <td>NaN</td>\n",
       "      <td>125314</td>\n",
       "      <td>125287</td>\n",
       "    </tr>\n",
       "    <tr>\n",
       "      <th>mean</th>\n",
       "      <td>NaN</td>\n",
       "      <td>NaN</td>\n",
       "      <td>NaN</td>\n",
       "      <td>41.04</td>\n",
       "      <td>NaN</td>\n",
       "      <td>20182851.75</td>\n",
       "      <td>160.63</td>\n",
       "      <td>180151.62</td>\n",
       "      <td>NaN</td>\n",
       "      <td>NaN</td>\n",
       "      <td>...</td>\n",
       "      <td>4.66</td>\n",
       "      <td>8.87</td>\n",
       "      <td>383.81</td>\n",
       "      <td>470.45</td>\n",
       "      <td>434.30</td>\n",
       "      <td>356.33</td>\n",
       "      <td>4108.57</td>\n",
       "      <td>822644.20</td>\n",
       "      <td>NaN</td>\n",
       "      <td>NaN</td>\n",
       "    </tr>\n",
       "    <tr>\n",
       "      <th>std</th>\n",
       "      <td>NaN</td>\n",
       "      <td>NaN</td>\n",
       "      <td>NaN</td>\n",
       "      <td>25.35</td>\n",
       "      <td>NaN</td>\n",
       "      <td>16078.21</td>\n",
       "      <td>289.33</td>\n",
       "      <td>46547.17</td>\n",
       "      <td>NaN</td>\n",
       "      <td>NaN</td>\n",
       "      <td>...</td>\n",
       "      <td>3.15</td>\n",
       "      <td>3.97</td>\n",
       "      <td>314.00</td>\n",
       "      <td>1041.01</td>\n",
       "      <td>355.80</td>\n",
       "      <td>702.63</td>\n",
       "      <td>2707.04</td>\n",
       "      <td>600857.05</td>\n",
       "      <td>NaN</td>\n",
       "      <td>NaN</td>\n",
       "    </tr>\n",
       "    <tr>\n",
       "      <th>min</th>\n",
       "      <td>NaN</td>\n",
       "      <td>NaN</td>\n",
       "      <td>NaN</td>\n",
       "      <td>2.00</td>\n",
       "      <td>NaN</td>\n",
       "      <td>20160104.00</td>\n",
       "      <td>1.00</td>\n",
       "      <td>100644.00</td>\n",
       "      <td>NaN</td>\n",
       "      <td>NaN</td>\n",
       "      <td>...</td>\n",
       "      <td>0.00</td>\n",
       "      <td>0.00</td>\n",
       "      <td>1.00</td>\n",
       "      <td>1.00</td>\n",
       "      <td>1.00</td>\n",
       "      <td>1.00</td>\n",
       "      <td>91.00</td>\n",
       "      <td>17865.74</td>\n",
       "      <td>NaN</td>\n",
       "      <td>NaN</td>\n",
       "    </tr>\n",
       "    <tr>\n",
       "      <th>25%</th>\n",
       "      <td>NaN</td>\n",
       "      <td>NaN</td>\n",
       "      <td>NaN</td>\n",
       "      <td>32.00</td>\n",
       "      <td>NaN</td>\n",
       "      <td>20170515.00</td>\n",
       "      <td>17.00</td>\n",
       "      <td>122425.00</td>\n",
       "      <td>NaN</td>\n",
       "      <td>NaN</td>\n",
       "      <td>...</td>\n",
       "      <td>2.00</td>\n",
       "      <td>6.00</td>\n",
       "      <td>137.00</td>\n",
       "      <td>49.00</td>\n",
       "      <td>157.00</td>\n",
       "      <td>35.00</td>\n",
       "      <td>2836.00</td>\n",
       "      <td>547366.24</td>\n",
       "      <td>NaN</td>\n",
       "      <td>NaN</td>\n",
       "    </tr>\n",
       "    <tr>\n",
       "      <th>50%</th>\n",
       "      <td>NaN</td>\n",
       "      <td>NaN</td>\n",
       "      <td>NaN</td>\n",
       "      <td>32.00</td>\n",
       "      <td>NaN</td>\n",
       "      <td>20180827.00</td>\n",
       "      <td>131.00</td>\n",
       "      <td>203530.00</td>\n",
       "      <td>NaN</td>\n",
       "      <td>NaN</td>\n",
       "      <td>...</td>\n",
       "      <td>4.00</td>\n",
       "      <td>8.00</td>\n",
       "      <td>298.00</td>\n",
       "      <td>161.00</td>\n",
       "      <td>325.00</td>\n",
       "      <td>138.00</td>\n",
       "      <td>3340.00</td>\n",
       "      <td>663329.71</td>\n",
       "      <td>NaN</td>\n",
       "      <td>NaN</td>\n",
       "    </tr>\n",
       "    <tr>\n",
       "      <th>75%</th>\n",
       "      <td>NaN</td>\n",
       "      <td>NaN</td>\n",
       "      <td>NaN</td>\n",
       "      <td>32.00</td>\n",
       "      <td>NaN</td>\n",
       "      <td>20191007.00</td>\n",
       "      <td>272.00</td>\n",
       "      <td>214152.00</td>\n",
       "      <td>NaN</td>\n",
       "      <td>NaN</td>\n",
       "      <td>...</td>\n",
       "      <td>6.00</td>\n",
       "      <td>11.00</td>\n",
       "      <td>562.00</td>\n",
       "      <td>438.00</td>\n",
       "      <td>642.00</td>\n",
       "      <td>377.00</td>\n",
       "      <td>4008.00</td>\n",
       "      <td>834029.00</td>\n",
       "      <td>NaN</td>\n",
       "      <td>NaN</td>\n",
       "    </tr>\n",
       "    <tr>\n",
       "      <th>max</th>\n",
       "      <td>NaN</td>\n",
       "      <td>NaN</td>\n",
       "      <td>NaN</td>\n",
       "      <td>128.00</td>\n",
       "      <td>NaN</td>\n",
       "      <td>20210823.00</td>\n",
       "      <td>8312.00</td>\n",
       "      <td>245099.00</td>\n",
       "      <td>NaN</td>\n",
       "      <td>NaN</td>\n",
       "      <td>...</td>\n",
       "      <td>120.00</td>\n",
       "      <td>190.00</td>\n",
       "      <td>2220.00</td>\n",
       "      <td>16950.00</td>\n",
       "      <td>2257.00</td>\n",
       "      <td>16950.00</td>\n",
       "      <td>18086.00</td>\n",
       "      <td>5002793.97</td>\n",
       "      <td>NaN</td>\n",
       "      <td>NaN</td>\n",
       "    </tr>\n",
       "  </tbody>\n",
       "</table>\n",
       "<p>11 rows × 51 columns</p>\n",
       "</div>"
      ],
      "text/plain": [
       "       tourney_id tourney_name surface  draw_size tourney_level  tourney_date  \\\n",
       "count      186073       186103  185940  186099.00        186099     186100.00   \n",
       "unique       4853         2488       4        NaN            19           NaN   \n",
       "top      2016-560  W15 Antalya    Hard        NaN            15           NaN   \n",
       "freq          478         4634   95243        NaN         45807           NaN   \n",
       "mean          NaN          NaN     NaN      41.04           NaN   20182851.75   \n",
       "std           NaN          NaN     NaN      25.35           NaN      16078.21   \n",
       "min           NaN          NaN     NaN       2.00           NaN   20160104.00   \n",
       "25%           NaN          NaN     NaN      32.00           NaN   20170515.00   \n",
       "50%           NaN          NaN     NaN      32.00           NaN   20180827.00   \n",
       "75%           NaN          NaN     NaN      32.00           NaN   20191007.00   \n",
       "max           NaN          NaN     NaN     128.00           NaN   20210823.00   \n",
       "\n",
       "        match_num  winner_id winner_entry     winner_name  ... l_bpSaved  \\\n",
       "count   186101.00  186073.00        25827          186101  ...  82311.00   \n",
       "unique        NaN        NaN           15            6180  ...       NaN   \n",
       "top           NaN        NaN            Q  Novak Djokovic  ...       NaN   \n",
       "freq          NaN        NaN        13575             289  ...       NaN   \n",
       "mean       160.63  180151.62          NaN             NaN  ...      4.66   \n",
       "std        289.33   46547.17          NaN             NaN  ...      3.15   \n",
       "min          1.00  100644.00          NaN             NaN  ...      0.00   \n",
       "25%         17.00  122425.00          NaN             NaN  ...      2.00   \n",
       "50%        131.00  203530.00          NaN             NaN  ...      4.00   \n",
       "75%        272.00  214152.00          NaN             NaN  ...      6.00   \n",
       "max       8312.00  245099.00          NaN             NaN  ...    120.00   \n",
       "\n",
       "        l_bpFaced winner_rank  winner_rank_points  loser_rank  \\\n",
       "count    82306.00   166719.00           166701.00   150845.00   \n",
       "unique        NaN         NaN                 NaN         NaN   \n",
       "top           NaN         NaN                 NaN         NaN   \n",
       "freq          NaN         NaN                 NaN         NaN   \n",
       "mean         8.87      383.81              470.45      434.30   \n",
       "std          3.97      314.00             1041.01      355.80   \n",
       "min          0.00        1.00                1.00        1.00   \n",
       "25%          6.00      137.00               49.00      157.00   \n",
       "50%          8.00      298.00              161.00      325.00   \n",
       "75%         11.00      562.00              438.00      642.00   \n",
       "max        190.00     2220.00            16950.00     2257.00   \n",
       "\n",
       "       loser_rank_points tourney_spectators tourney_revenue  winner_gender  \\\n",
       "count          150828.00          186101.00       186102.00         183424   \n",
       "unique               NaN                NaN             NaN              3   \n",
       "top                  NaN                NaN             NaN              F   \n",
       "freq                 NaN                NaN             NaN         125314   \n",
       "mean              356.33            4108.57       822644.20            NaN   \n",
       "std               702.63            2707.04       600857.05            NaN   \n",
       "min                 1.00              91.00        17865.74            NaN   \n",
       "25%                35.00            2836.00       547366.24            NaN   \n",
       "50%               138.00            3340.00       663329.71            NaN   \n",
       "75%               377.00            4008.00       834029.00            NaN   \n",
       "max             16950.00           18086.00      5002793.97            NaN   \n",
       "\n",
       "       loser_gender  \n",
       "count        183999  \n",
       "unique            3  \n",
       "top               F  \n",
       "freq         125287  \n",
       "mean            NaN  \n",
       "std             NaN  \n",
       "min             NaN  \n",
       "25%             NaN  \n",
       "50%             NaN  \n",
       "75%             NaN  \n",
       "max             NaN  \n",
       "\n",
       "[11 rows x 51 columns]"
      ]
     },
     "execution_count": 5,
     "metadata": {},
     "output_type": "execute_result"
    }
   ],
   "source": [
    "pd.options.display.float_format = '{:.2f}'.format # to visualize data through a table\n",
    "\n",
    "df.describe(include='all') # a summary of statistical informations"
   ]
  },
  {
   "cell_type": "code",
   "execution_count": 6,
   "id": "72a3cd92-088d-4c84-8c64-7a4d3ed32215",
   "metadata": {
    "scrolled": true,
    "tags": []
   },
   "outputs": [
    {
     "data": {
      "text/plain": [
       "Index                  1489024\n",
       "tourney_id            13773860\n",
       "tourney_name          12902923\n",
       "surface               11361062\n",
       "draw_size              1489024\n",
       "tourney_level         10899509\n",
       "tourney_date           1489024\n",
       "match_num              1489024\n",
       "winner_id              1489024\n",
       "winner_entry           6640780\n",
       "winner_name           13375073\n",
       "winner_hand           10794228\n",
       "winner_ht              1489024\n",
       "winner_ioc            11166868\n",
       "winner_age             1489024\n",
       "loser_id               1489024\n",
       "loser_entry            7129461\n",
       "loser_name            13371024\n",
       "loser_hand            10792876\n",
       "loser_ht               1489024\n",
       "loser_ioc             11166952\n",
       "loser_age              1489024\n",
       "score                 12301540\n",
       "best_of                1489024\n",
       "round                 11086531\n",
       "minutes                1489024\n",
       "w_ace                  1489024\n",
       "w_df                   1489024\n",
       "w_svpt                 1489024\n",
       "w_1stIn                1489024\n",
       "w_1stWon               1489024\n",
       "w_2ndWon               1489024\n",
       "w_SvGms                1489024\n",
       "w_bpSaved              1489024\n",
       "w_bpFaced              1489024\n",
       "l_ace                  1489024\n",
       "l_df                   1489024\n",
       "l_svpt                 1489024\n",
       "l_1stIn                1489024\n",
       "l_1stWon               1489024\n",
       "l_2ndWon               1489024\n",
       "l_SvGms                1489024\n",
       "l_bpSaved              1489024\n",
       "l_bpFaced              1489024\n",
       "winner_rank            1489024\n",
       "winner_rank_points     1489024\n",
       "loser_rank             1489024\n",
       "loser_rank_points      1489024\n",
       "tourney_spectators     1489024\n",
       "tourney_revenue        1489024\n",
       "winner_gender         10725120\n",
       "loser_gender          10740070\n",
       "dtype: int64"
      ]
     },
     "execution_count": 6,
     "metadata": {},
     "output_type": "execute_result"
    }
   ],
   "source": [
    "df.memory_usage(deep=True)"
   ]
  },
  {
   "cell_type": "markdown",
   "id": "b065bcdf-f10b-42ac-8125-7df6ee5b5d39",
   "metadata": {},
   "source": [
    "We see a lot of data provided by the functions above and this cannot help us to deduce something in an immediate way. So we apply again them to a subset of items, we show first the categorical ones and then the numerical ones."
   ]
  },
  {
   "cell_type": "markdown",
   "id": "36d94e53-c21b-4ca4-bf32-e613de0852a4",
   "metadata": {
    "tags": []
   },
   "source": [
    "### Tourney\n",
    "○ tourney_id: is the id of the tourney, has to be unique, is built with the first 4 characters that identify the year while the remaining part is random\n",
    "\n",
    "Analysis: \n",
    "Split the value of the attribute in 2 parts, the first with 4 characters and the second with the remaing characters. For both the parts build a set inserting each different year and id. \n",
    "Count how many wrong years are inserted through a NaN value. To detect the wrong remaining part is more difficult since they are random and don't follow a known a structure. We can only conclude that the wrong id elements are those deriving from the wrong years. As is shown with a different graph later, those years correspond also to the years of the tourney_date values.\n",
    "\n",
    "○ tourney_name: is the name of the tourney\n",
    "\n",
    "Analysis: \n",
    "since the tourney_name's unique values are < tourney_id's unique values then we have more tourney_ids with the same tourney_names. The tourney_ids are quite the double of the tourney_names\n",
    "\n",
    "○ tourney_level: is the level of the tourney, it distinguishes if it can be played by men, womens or both\n",
    "\n",
    "Analysis: \n",
    "About this type of attribute we know that: \n",
    "\n",
    "men: 'G' = Grand Slams, 'M' = Masters 1000s, 'A' = other tour-level events, 'C' = Challengers, 'S' = Satellites/ITFs, 'F' = Tour finals and other season-ending events, 'D' = Davis Cup. F\n",
    "\n",
    "women: several additional tourney_level codes, including 'P' = Premier, 'PM' = Premier Mandatory, 'I' = International. The various levels of ITFs are given by the prize money (in thousands), such as '15' = ITF $15,000. Other codes, such as 'T1' for Tier I (and so on) are used for older WTA tournament designations. 'D' is used for the Federation/Fed/Billie Jean King Cup, and also for the Wightman Cup and Bonne Bell Cup.\n",
    "\n",
    "both: 'E' = exhibition (events not sanctioned by the tour, though the definitions can be ambiguous), 'J' = juniors, and 'T' = team tennis, which does yet appear anywhere in the dataset but will at some point.\n",
    "\n",
    "it is an attribute that depends on the gender of the player, so we have to underline their relations.\n",
    "By the graph we conclude that there are some errors due to the 'U' gender that have to be fixed and are treated better in the 'handling of missing values' part.\n",
    "The good thing is that, as we can see, the majority of the matches have been played only between the same gender and so a consideration to be done is that of considering the 'U' value the same of the other member of the couple in which it appears; if the other value is 'M' and there is a 'U' then that 'U' has to be transformed in 'M', and vice versa. Considering also the fact that the tourney_level can be applied to that gender, otherwise also the known value has to be exchanged. Also by the graph we can see the distribution of levels according the gender of the players, and so i.e. the 'C' between the man."
   ]
  },
  {
   "cell_type": "code",
   "execution_count": 14,
   "id": "9e7fbbac-f051-441e-af97-09bbd510c7e7",
   "metadata": {
    "tags": []
   },
   "outputs": [
    {
     "data": {
      "text/html": [
       "<div>\n",
       "<style scoped>\n",
       "    .dataframe tbody tr th:only-of-type {\n",
       "        vertical-align: middle;\n",
       "    }\n",
       "\n",
       "    .dataframe tbody tr th {\n",
       "        vertical-align: top;\n",
       "    }\n",
       "\n",
       "    .dataframe thead th {\n",
       "        text-align: right;\n",
       "    }\n",
       "</style>\n",
       "<table border=\"1\" class=\"dataframe\">\n",
       "  <thead>\n",
       "    <tr style=\"text-align: right;\">\n",
       "      <th></th>\n",
       "      <th>tourney_id</th>\n",
       "      <th>tourney_name</th>\n",
       "      <th>tourney_level</th>\n",
       "    </tr>\n",
       "  </thead>\n",
       "  <tbody>\n",
       "    <tr>\n",
       "      <th>count</th>\n",
       "      <td>186073</td>\n",
       "      <td>186103</td>\n",
       "      <td>186099</td>\n",
       "    </tr>\n",
       "    <tr>\n",
       "      <th>unique</th>\n",
       "      <td>4853</td>\n",
       "      <td>2488</td>\n",
       "      <td>19</td>\n",
       "    </tr>\n",
       "    <tr>\n",
       "      <th>top</th>\n",
       "      <td>2020-580</td>\n",
       "      <td>W15 Antalya</td>\n",
       "      <td>15</td>\n",
       "    </tr>\n",
       "    <tr>\n",
       "      <th>freq</th>\n",
       "      <td>478</td>\n",
       "      <td>4634</td>\n",
       "      <td>45807</td>\n",
       "    </tr>\n",
       "  </tbody>\n",
       "</table>\n",
       "</div>"
      ],
      "text/plain": [
       "       tourney_id tourney_name tourney_level\n",
       "count      186073       186103        186099\n",
       "unique       4853         2488            19\n",
       "top      2020-580  W15 Antalya            15\n",
       "freq          478         4634         45807"
      ]
     },
     "execution_count": 14,
     "metadata": {},
     "output_type": "execute_result"
    }
   ],
   "source": [
    "df[['tourney_id', 'tourney_name', 'tourney_level']].describe()"
   ]
  },
  {
   "cell_type": "code",
   "execution_count": null,
   "id": "f34b3d7a",
   "metadata": {},
   "outputs": [],
   "source": [
    "tourney_year= df['tourney_id'].str[:4]\n",
    "tourney_id= df['tourney_id'].str[5:]\n",
    "\n",
    "tourney_year_set= set()\n",
    "wrong_year= 0\n",
    "for i in tourney_year:    \n",
    "    if math.isnan(float(i)):\n",
    "        wrong_year += 1\n",
    "    else:\n",
    "        tourney_year_set.add(i)\n",
    "print(\"Present years: \"+ str(sorted(tourney_year_set))) \n",
    "print(\"Wrong years counting: \"+ str(wrong_year))"
   ]
  },
  {
   "cell_type": "code",
   "execution_count": 61,
   "id": "b066773b-e9a1-497f-a05c-0268607b0189",
   "metadata": {},
   "outputs": [
    {
     "data": {
      "text/plain": [
       "array(['A', 'P', 'G', 'I', 'M', 'PM', 'F', 'D', 'C', '15', '25', '60',\n",
       "       '100', '80', '10', '50', '75', 'O', 'W', nan], dtype=object)"
      ]
     },
     "execution_count": 61,
     "metadata": {},
     "output_type": "execute_result"
    }
   ],
   "source": [
    "df.tourney_level.unique()"
   ]
  },
  {
   "cell_type": "code",
   "execution_count": 7,
   "id": "ef16c400-63ac-4476-85b3-c5ade7a5d727",
   "metadata": {},
   "outputs": [
    {
     "data": {
      "text/plain": [
       "<AxesSubplot:title={'center':'Distribution of tourney_level values according to the gender of the player'}, xlabel='Gender of the winner and loser player', ylabel='Counting'>"
      ]
     },
     "execution_count": 7,
     "metadata": {},
     "output_type": "execute_result"
    },
    {
     "data": {
      "image/png": "[encoded data removed]",
      "text/plain": [
       "<Figure size 1440x720 with 1 Axes>"
      ]
     },
     "metadata": {
      "needs_background": "light"
     },
     "output_type": "display_data"
    }
   ],
   "source": [
    "lf = df.groupby(['winner_gender', 'loser_gender', 'tourney_level']).size()\n",
    "lf = lf.unstack()\n",
    "lf.plot(\n",
    "    figsize=(20, 10), \n",
    "    title=\"Distribution of tourney_level values according to the gender of the player\", \n",
    "    xlabel=\"Gender of the winner and loser player\",\n",
    "    ylabel=\"Counting\",\n",
    "    kind='bar')"
   ]
  },
  {
   "cell_type": "markdown",
   "id": "095544ca-1528-4f11-b71b-a3098f0a463d",
   "metadata": {},
   "source": [
    "### Tourney\n",
    "\n",
    "○ tourney_spectators: is the number of people watching for a match\n",
    "\n",
    "○ tourney_revenue: is the amount of money earned\n",
    "\n",
    "Analysis: \n",
    "We see their distribution and notice that they have a quite similar behavior. \n",
    "we could treat usefully these data by supposing for instance, an approximation of the cost of a ticket through the division of the avg revenue with the avg number of spectators\n",
    "\n",
    "Another observation that we can do, but that is general with viewing the statistics of numerical data is the fact that we have the min and/or max value which are very different from the mean value, and for this we assume to have outliers, for sure."
   ]
  },
  {
   "cell_type": "code",
   "execution_count": 12,
   "id": "ec52b7f5-4c35-4a99-98a6-49a11eb5c4a5",
   "metadata": {},
   "outputs": [
    {
     "data": {
      "text/html": [
       "<div>\n",
       "<style scoped>\n",
       "    .dataframe tbody tr th:only-of-type {\n",
       "        vertical-align: middle;\n",
       "    }\n",
       "\n",
       "    .dataframe tbody tr th {\n",
       "        vertical-align: top;\n",
       "    }\n",
       "\n",
       "    .dataframe thead th {\n",
       "        text-align: right;\n",
       "    }\n",
       "</style>\n",
       "<table border=\"1\" class=\"dataframe\">\n",
       "  <thead>\n",
       "    <tr style=\"text-align: right;\">\n",
       "      <th></th>\n",
       "      <th>tourney_spectators</th>\n",
       "      <th>tourney_revenue</th>\n",
       "    </tr>\n",
       "  </thead>\n",
       "  <tbody>\n",
       "    <tr>\n",
       "      <th>count</th>\n",
       "      <td>186101.00</td>\n",
       "      <td>186102.00</td>\n",
       "    </tr>\n",
       "    <tr>\n",
       "      <th>mean</th>\n",
       "      <td>4108.57</td>\n",
       "      <td>822644.20</td>\n",
       "    </tr>\n",
       "    <tr>\n",
       "      <th>std</th>\n",
       "      <td>2707.04</td>\n",
       "      <td>600857.05</td>\n",
       "    </tr>\n",
       "    <tr>\n",
       "      <th>min</th>\n",
       "      <td>91.00</td>\n",
       "      <td>17865.74</td>\n",
       "    </tr>\n",
       "    <tr>\n",
       "      <th>25%</th>\n",
       "      <td>2836.00</td>\n",
       "      <td>547366.24</td>\n",
       "    </tr>\n",
       "    <tr>\n",
       "      <th>50%</th>\n",
       "      <td>3340.00</td>\n",
       "      <td>663329.71</td>\n",
       "    </tr>\n",
       "    <tr>\n",
       "      <th>75%</th>\n",
       "      <td>4008.00</td>\n",
       "      <td>834029.00</td>\n",
       "    </tr>\n",
       "    <tr>\n",
       "      <th>max</th>\n",
       "      <td>18086.00</td>\n",
       "      <td>5002793.97</td>\n",
       "    </tr>\n",
       "  </tbody>\n",
       "</table>\n",
       "</div>"
      ],
      "text/plain": [
       "       tourney_spectators  tourney_revenue\n",
       "count           186101.00        186102.00\n",
       "mean              4108.57        822644.20\n",
       "std               2707.04        600857.05\n",
       "min                 91.00         17865.74\n",
       "25%               2836.00        547366.24\n",
       "50%               3340.00        663329.71\n",
       "75%               4008.00        834029.00\n",
       "max              18086.00       5002793.97"
      ]
     },
     "execution_count": 12,
     "metadata": {},
     "output_type": "execute_result"
    }
   ],
   "source": [
    "df[['tourney_spectators', 'tourney_revenue']].describe()"
   ]
  },
  {
   "cell_type": "code",
   "execution_count": 8,
   "id": "2bbd7b2f-e892-43c3-ae35-129fdcb13ea7",
   "metadata": {},
   "outputs": [
    {
     "data": {
      "image/png": "[encoded data removed]",
      "text/plain": [
       "<Figure size 432x288 with 2 Axes>"
      ]
     },
     "metadata": {
      "needs_background": "light"
     },
     "output_type": "display_data"
    }
   ],
   "source": [
    "dl = pd.DataFrame({ 'tourney_spectators': df['tourney_spectators'], 'tourney_revenue': df['tourney_revenue']}, index=[0, 20000, 40000, 60000, 80000, 100000, 120000])\n",
    "lines = dl.plot.line(subplots=True)"
   ]
  },
  {
   "cell_type": "code",
   "execution_count": 9,
   "id": "b4174670-b5a6-4dd6-8fa5-a1e2d02fa1c5",
   "metadata": {},
   "outputs": [
    {
     "data": {
      "text/plain": [
       "200.22644566259393"
      ]
     },
     "execution_count": 9,
     "metadata": {},
     "output_type": "execute_result"
    }
   ],
   "source": [
    "df.tourney_revenue.mean() / df.tourney_spectators.mean()"
   ]
  },
  {
   "cell_type": "markdown",
   "id": "e0c361d9-4a42-469c-9144-20c9a4bf7559",
   "metadata": {},
   "source": [
    "### Matches\n",
    "○ surface: kind of surface for the match\n",
    "\n",
    "Analysis: \n",
    "We see more deeply this attribute since has few different values. Moreover, to understand which type of surfaces has been used in the matches we put it in relations the years of the tourney_date values. Thanks to the visualization of their distribution we can conclude that they follow the same increasing way instead for the last year, denoted by 2021, there is an inversion of the 'Clay' with the 'Hard' surface type.\n",
    "\n",
    "○ score: \n",
    "\n",
    "○ round"
   ]
  },
  {
   "cell_type": "code",
   "execution_count": 10,
   "id": "2cf186e1-325d-401f-92f6-956a4bff83be",
   "metadata": {},
   "outputs": [
    {
     "data": {
      "text/html": [
       "<div>\n",
       "<style scoped>\n",
       "    .dataframe tbody tr th:only-of-type {\n",
       "        vertical-align: middle;\n",
       "    }\n",
       "\n",
       "    .dataframe tbody tr th {\n",
       "        vertical-align: top;\n",
       "    }\n",
       "\n",
       "    .dataframe thead th {\n",
       "        text-align: right;\n",
       "    }\n",
       "</style>\n",
       "<table border=\"1\" class=\"dataframe\">\n",
       "  <thead>\n",
       "    <tr style=\"text-align: right;\">\n",
       "      <th></th>\n",
       "      <th>surface</th>\n",
       "      <th>score</th>\n",
       "      <th>round</th>\n",
       "    </tr>\n",
       "  </thead>\n",
       "  <tbody>\n",
       "    <tr>\n",
       "      <th>count</th>\n",
       "      <td>185940</td>\n",
       "      <td>185929</td>\n",
       "      <td>186098</td>\n",
       "    </tr>\n",
       "    <tr>\n",
       "      <th>unique</th>\n",
       "      <td>4</td>\n",
       "      <td>9705</td>\n",
       "      <td>12</td>\n",
       "    </tr>\n",
       "    <tr>\n",
       "      <th>top</th>\n",
       "      <td>Hard</td>\n",
       "      <td>6-3 6-4</td>\n",
       "      <td>R32</td>\n",
       "    </tr>\n",
       "    <tr>\n",
       "      <th>freq</th>\n",
       "      <td>95243</td>\n",
       "      <td>5377</td>\n",
       "      <td>63069</td>\n",
       "    </tr>\n",
       "  </tbody>\n",
       "</table>\n",
       "</div>"
      ],
      "text/plain": [
       "       surface    score   round\n",
       "count   185940   185929  186098\n",
       "unique       4     9705      12\n",
       "top       Hard  6-3 6-4     R32\n",
       "freq     95243     5377   63069"
      ]
     },
     "execution_count": 10,
     "metadata": {},
     "output_type": "execute_result"
    }
   ],
   "source": [
    "df[['surface', 'score', 'round']].describe()"
   ]
  },
  {
   "cell_type": "code",
   "execution_count": 8,
   "id": "ab701900-be7f-46ab-8fc7-0ac60f3e5bba",
   "metadata": {},
   "outputs": [
    {
     "data": {
      "text/plain": [
       "array(['Hard', 'Clay', 'Grass', 'Carpet', nan], dtype=object)"
      ]
     },
     "execution_count": 8,
     "metadata": {},
     "output_type": "execute_result"
    }
   ],
   "source": [
    "df.surface.unique()"
   ]
  },
  {
   "cell_type": "code",
   "execution_count": 17,
   "id": "83025242-51a1-4e85-a86d-40506a1a2b0f",
   "metadata": {},
   "outputs": [
    {
     "data": {
      "text/plain": [
       "<AxesSubplot:title={'center':'Distribution of the surface values according to the years of the tourney_date values'}>"
      ]
     },
     "execution_count": 17,
     "metadata": {},
     "output_type": "execute_result"
    },
    {
     "data": {
      "image/png": "[encoded data removed]",
      "text/plain": [
       "<Figure size 1440x720 with 1 Axes>"
      ]
     },
     "metadata": {
      "needs_background": "light"
     },
     "output_type": "display_data"
    }
   ],
   "source": [
    "#----------------- TO MOVE IN THE CONVERSION PART\n",
    "#df['tourney_date'] = pd.to_datetime(df['tourney_date'], format='%Y%m%d') or the following\n",
    "#df['tourney_date'] = pd.to_datetime(df['tourney_date'], format='%Y-%m-%d')\n",
    "#df['tourney_date'] = [x.date() for x in df.tourney_date]\n",
    "# dopo questa conversione, la describe della data va fatta separatamente\n",
    "#-----------------\n",
    "\n",
    "lf = df.groupby([ [x.year for x in df.tourney_date], 'surface']).size()\n",
    "lf = lf.unstack()\n",
    "lf.plot(\n",
    "    figsize=(20, 10), \n",
    "    title=\"Distribution of the surface values according to the years of the tourney_date values\", \n",
    "    kind='bar')"
   ]
  },
  {
   "cell_type": "code",
   "execution_count": 10,
   "id": "b725628b-8b23-4cdd-966e-4b4be09b319b",
   "metadata": {},
   "outputs": [
    {
     "name": "stdout",
     "output_type": "stream",
     "text": [
      "['F' 'SF' 'QF' 'R16' 'R32' 'Q1' 'Q2' 'Q3' 'R64' 'R128' 'RR' 'BR' nan]\n",
      "null values: 188\n"
     ]
    }
   ],
   "source": [
    "print(df['round'].unique())\n",
    "print(\"null values:\",  df['surface'].isnull().sum()) #VA LASCIATO O TOLTO? E' NELLA PARTE DI CONTROLLO DELLA SINTASSI."
   ]
  },
  {
   "cell_type": "markdown",
   "id": "bdb1fa06-762b-4f7d-8f01-89ed77387292",
   "metadata": {},
   "source": [
    "### Matches\n",
    "\n",
    "○ match_num: a match-specific identifier. Often starting from 1, sometimes counting down from 300, and sometimes arbitrary.\n",
    "\n",
    "○ draw_size: number of players in the draw, often rounded up to the nearest power of 2. (i.e., a tournament with 28 players may be shown as 32)\n",
    "\n",
    "○ tourney_date: tourney_date: eight digits, YYYYMMDD, usually the Monday of the tournament week.\n",
    "\n",
    "Analysis:\n",
    "According to the distribution of the matches through the months and the years we can note that they follow the same structure for the first 4 years, while for the last 2 they have more missing values. In those years we can say that July was the month with more matches played.\n",
    "\n",
    "○ minutes: match length, where available\n",
    "\n",
    "Analysis:\n",
    "According to the distribution of the matches duration along the years, we note that there are a lot of matches played with less than 1 hour, 1 hour and some of 2 hours. THe bad thing is that there are also a lot of NaN values, this means that that data was not available for those matches and have to be treated in some way in the 'handling the missing values' part.\n",
    "\n",
    "○ best_of: '3' or '5', indicating the number of set for this match\n",
    "\n",
    "Analysis:\n",
    "We note that the majority is the same for all the years, and so we could souppose for the missing values that will take the most used value too, which is the 3."
   ]
  },
  {
   "cell_type": "code",
   "execution_count": 11,
   "id": "cc33e763-ca35-4ca5-b217-b50f4da20e08",
   "metadata": {},
   "outputs": [
    {
     "data": {
      "text/html": [
       "<div>\n",
       "<style scoped>\n",
       "    .dataframe tbody tr th:only-of-type {\n",
       "        vertical-align: middle;\n",
       "    }\n",
       "\n",
       "    .dataframe tbody tr th {\n",
       "        vertical-align: top;\n",
       "    }\n",
       "\n",
       "    .dataframe thead th {\n",
       "        text-align: right;\n",
       "    }\n",
       "</style>\n",
       "<table border=\"1\" class=\"dataframe\">\n",
       "  <thead>\n",
       "    <tr style=\"text-align: right;\">\n",
       "      <th></th>\n",
       "      <th>match_num</th>\n",
       "      <th>draw_size</th>\n",
       "      <th>minutes</th>\n",
       "      <th>best_of</th>\n",
       "    </tr>\n",
       "  </thead>\n",
       "  <tbody>\n",
       "    <tr>\n",
       "      <th>count</th>\n",
       "      <td>186101.00</td>\n",
       "      <td>186099.00</td>\n",
       "      <td>81660.00</td>\n",
       "      <td>186099.00</td>\n",
       "    </tr>\n",
       "    <tr>\n",
       "      <th>mean</th>\n",
       "      <td>160.63</td>\n",
       "      <td>41.04</td>\n",
       "      <td>97.68</td>\n",
       "      <td>3.03</td>\n",
       "    </tr>\n",
       "    <tr>\n",
       "      <th>std</th>\n",
       "      <td>289.33</td>\n",
       "      <td>25.35</td>\n",
       "      <td>41.49</td>\n",
       "      <td>0.26</td>\n",
       "    </tr>\n",
       "    <tr>\n",
       "      <th>min</th>\n",
       "      <td>1.00</td>\n",
       "      <td>2.00</td>\n",
       "      <td>0.00</td>\n",
       "      <td>3.00</td>\n",
       "    </tr>\n",
       "    <tr>\n",
       "      <th>25%</th>\n",
       "      <td>17.00</td>\n",
       "      <td>32.00</td>\n",
       "      <td>72.00</td>\n",
       "      <td>3.00</td>\n",
       "    </tr>\n",
       "    <tr>\n",
       "      <th>50%</th>\n",
       "      <td>131.00</td>\n",
       "      <td>32.00</td>\n",
       "      <td>91.00</td>\n",
       "      <td>3.00</td>\n",
       "    </tr>\n",
       "    <tr>\n",
       "      <th>75%</th>\n",
       "      <td>272.00</td>\n",
       "      <td>32.00</td>\n",
       "      <td>119.00</td>\n",
       "      <td>3.00</td>\n",
       "    </tr>\n",
       "    <tr>\n",
       "      <th>max</th>\n",
       "      <td>8312.00</td>\n",
       "      <td>128.00</td>\n",
       "      <td>4756.00</td>\n",
       "      <td>5.00</td>\n",
       "    </tr>\n",
       "  </tbody>\n",
       "</table>\n",
       "</div>"
      ],
      "text/plain": [
       "       match_num  draw_size  minutes   best_of\n",
       "count  186101.00  186099.00 81660.00 186099.00\n",
       "mean      160.63      41.04    97.68      3.03\n",
       "std       289.33      25.35    41.49      0.26\n",
       "min         1.00       2.00     0.00      3.00\n",
       "25%        17.00      32.00    72.00      3.00\n",
       "50%       131.00      32.00    91.00      3.00\n",
       "75%       272.00      32.00   119.00      3.00\n",
       "max      8312.00     128.00  4756.00      5.00"
      ]
     },
     "execution_count": 11,
     "metadata": {},
     "output_type": "execute_result"
    }
   ],
   "source": [
    "df[['match_num', 'draw_size', 'minutes', 'best_of']].describe()"
   ]
  },
  {
   "cell_type": "code",
   "execution_count": 16,
   "id": "a03f739f-55ba-43d8-84c8-043cf503b182",
   "metadata": {},
   "outputs": [
    {
     "data": {
      "text/html": [
       "<div>\n",
       "<style scoped>\n",
       "    .dataframe tbody tr th:only-of-type {\n",
       "        vertical-align: middle;\n",
       "    }\n",
       "\n",
       "    .dataframe tbody tr th {\n",
       "        vertical-align: top;\n",
       "    }\n",
       "\n",
       "    .dataframe thead th {\n",
       "        text-align: right;\n",
       "    }\n",
       "</style>\n",
       "<table border=\"1\" class=\"dataframe\">\n",
       "  <thead>\n",
       "    <tr style=\"text-align: right;\">\n",
       "      <th></th>\n",
       "      <th>tourney_date</th>\n",
       "    </tr>\n",
       "  </thead>\n",
       "  <tbody>\n",
       "    <tr>\n",
       "      <th>count</th>\n",
       "      <td>186100</td>\n",
       "    </tr>\n",
       "    <tr>\n",
       "      <th>unique</th>\n",
       "      <td>375</td>\n",
       "    </tr>\n",
       "    <tr>\n",
       "      <th>top</th>\n",
       "      <td>2019-08-26</td>\n",
       "    </tr>\n",
       "    <tr>\n",
       "      <th>freq</th>\n",
       "      <td>1440</td>\n",
       "    </tr>\n",
       "  </tbody>\n",
       "</table>\n",
       "</div>"
      ],
      "text/plain": [
       "       tourney_date\n",
       "count        186100\n",
       "unique          375\n",
       "top      2019-08-26\n",
       "freq           1440"
      ]
     },
     "execution_count": 16,
     "metadata": {},
     "output_type": "execute_result"
    }
   ],
   "source": [
    "df[['tourney_date']].describe()"
   ]
  },
  {
   "cell_type": "code",
   "execution_count": 21,
   "id": "50f251ba-19c8-4f55-97b8-a366bab6d0fb",
   "metadata": {},
   "outputs": [
    {
     "data": {
      "text/plain": [
       "<AxesSubplot:title={'center':'Distribution of the matches according the months of the years'}>"
      ]
     },
     "execution_count": 56,
     "metadata": {},
     "output_type": "execute_result"
    },
    {
     "data": {
      "image/png": "[encoded data removed]",
      "text/plain": [
       "<Figure size 1440x720 with 1 Axes>"
      ]
     },
     "metadata": {
      "needs_background": "light"
     },
     "output_type": "display_data"
    }
   ],
   "source": [
    "lf = df.groupby([ [x.year for x in df.tourney_date], [x.month for x in df.tourney_date]]).size()\n",
    "lf = lf.unstack()\n",
    "lf.plot(\n",
    "    figsize=(20, 10), \n",
    "    title=\"Distribution of the matches according the months of the years\", \n",
    "    kind='bar')"
   ]
  },
  {
   "cell_type": "code",
   "execution_count": 53,
   "id": "1e592616-2461-4158-9d03-9394598840e7",
   "metadata": {},
   "outputs": [
    {
     "data": {
      "text/plain": [
       "<AxesSubplot:title={'center':'Distribution of the duration of the matches during the years'}>"
      ]
     },
     "execution_count": 53,
     "metadata": {},
     "output_type": "execute_result"
    },
    {
     "data": {
      "image/png": "[encoded data removed]",
      "text/plain": [
       "<Figure size 1440x720 with 1 Axes>"
      ]
     },
     "metadata": {
      "needs_background": "light"
     },
     "output_type": "display_data"
    }
   ],
   "source": [
    "minutes = df['minutes']\n",
    "minutes = pd.to_numeric(minutes, errors='coerce') #for removing all non-numeric values use to_numeric with parameter errors='coerce' - to replace non-numeric values to NaNs\n",
    "minutes = minutes.fillna(-1)\n",
    "minutes = minutes.astype(int) #Last convert values to ints:\n",
    "\n",
    "lf = df.groupby([ [x.year for x in df.tourney_date], [ int( x // 60) for x in minutes]]).size()\n",
    "lf = lf.unstack()\n",
    "lf.plot(\n",
    "    figsize=(20, 10), \n",
    "    title=\"Distribution of the duration of the matches during the years\", \n",
    "    kind='box')"
   ]
  },
  {
   "cell_type": "code",
   "execution_count": 59,
   "id": "592fc7b7-452d-4c56-83e8-70a1d24d3bac",
   "metadata": {},
   "outputs": [
    {
     "data": {
      "text/plain": [
       "<AxesSubplot:title={'center':'Distribution of the duration of the matches during the years'}>"
      ]
     },
     "execution_count": 59,
     "metadata": {},
     "output_type": "execute_result"
    },
    {
     "data": {
      "image/png": "[encoded data removed]",
      "text/plain": [
       "<Figure size 432x288 with 1 Axes>"
      ]
     },
     "metadata": {
      "needs_background": "light"
     },
     "output_type": "display_data"
    }
   ],
   "source": [
    "lf = df.groupby([ [x.year for x in df.tourney_date], 'best_of']).size()\n",
    "lf = lf.unstack()\n",
    "lf.plot(\n",
    "    title=\"Distribution of best_of matches during the years\", \n",
    "    kind='box')"
   ]
  },
  {
   "cell_type": "markdown",
   "id": "f885e096-5be6-4a2c-9e57-15bc502e6688",
   "metadata": {},
   "source": [
    "### Players\n",
    "\n",
    "○ winner_name, loser_name: name of the player\n",
    "\n",
    "Analysis: count(winner_name) < count(loser_name) of unique values then this means that the set of winners is smaller than the set of losers\n",
    "\n",
    "○ winner_ioc, loser_ioc: three-character country code\n",
    "\n",
    "Analysis: same previous consideration then this means that there are same countries that are never qualified between the winners \n",
    "Moreover, by seeing their distribution graph we note they are similar. \n",
    "\n",
    "○ winner_hand, loser_hand, winner_gender, loser_gender\n",
    "\n",
    "Analysis: these attributes behave in the same way, we aspect 3 different values for them\n",
    "Moreover, by their distribution graph we note that the majority of the players user the R hand, both the men and women players. \n",
    "\n",
    "○ winner_entry, loser_entry: 'WC' = wild card, 'Q' = qualifier, 'LL' = lucky loser, 'PR' = protected ranking, 'ITF' = ITF entry, and there are a few others that are occasionally used\n",
    "\n",
    "Analysis: \n",
    "By visualizing their distribution we note that some are present only with the losers and vice versa, some are present only with the winners.\n",
    "NOTA ?: There is some relation with the ranking of the player to discover"
   ]
  },
  {
   "cell_type": "code",
   "execution_count": 62,
   "id": "d3b94248-d9f3-4cee-bd84-82fd771bd304",
   "metadata": {},
   "outputs": [
    {
     "data": {
      "text/html": [
       "<div>\n",
       "<style scoped>\n",
       "    .dataframe tbody tr th:only-of-type {\n",
       "        vertical-align: middle;\n",
       "    }\n",
       "\n",
       "    .dataframe tbody tr th {\n",
       "        vertical-align: top;\n",
       "    }\n",
       "\n",
       "    .dataframe thead th {\n",
       "        text-align: right;\n",
       "    }\n",
       "</style>\n",
       "<table border=\"1\" class=\"dataframe\">\n",
       "  <thead>\n",
       "    <tr style=\"text-align: right;\">\n",
       "      <th></th>\n",
       "      <th>winner_name</th>\n",
       "      <th>loser_name</th>\n",
       "      <th>winner_ioc</th>\n",
       "      <th>loser_ioc</th>\n",
       "      <th>winner_hand</th>\n",
       "      <th>loser_hand</th>\n",
       "      <th>winner_gender</th>\n",
       "      <th>loser_gender</th>\n",
       "      <th>winner_entry</th>\n",
       "      <th>loser_entry</th>\n",
       "    </tr>\n",
       "  </thead>\n",
       "  <tbody>\n",
       "    <tr>\n",
       "      <th>count</th>\n",
       "      <td>186101</td>\n",
       "      <td>186097</td>\n",
       "      <td>186099</td>\n",
       "      <td>186102</td>\n",
       "      <td>186082</td>\n",
       "      <td>186030</td>\n",
       "      <td>183424</td>\n",
       "      <td>183999</td>\n",
       "      <td>25827</td>\n",
       "      <td>44154</td>\n",
       "    </tr>\n",
       "    <tr>\n",
       "      <th>unique</th>\n",
       "      <td>6180</td>\n",
       "      <td>10060</td>\n",
       "      <td>124</td>\n",
       "      <td>154</td>\n",
       "      <td>3</td>\n",
       "      <td>3</td>\n",
       "      <td>3</td>\n",
       "      <td>3</td>\n",
       "      <td>15</td>\n",
       "      <td>19</td>\n",
       "    </tr>\n",
       "    <tr>\n",
       "      <th>top</th>\n",
       "      <td>Novak Djokovic</td>\n",
       "      <td>Federico Gaio</td>\n",
       "      <td>USA</td>\n",
       "      <td>USA</td>\n",
       "      <td>R</td>\n",
       "      <td>R</td>\n",
       "      <td>F</td>\n",
       "      <td>F</td>\n",
       "      <td>Q</td>\n",
       "      <td>Q</td>\n",
       "    </tr>\n",
       "    <tr>\n",
       "      <th>freq</th>\n",
       "      <td>289</td>\n",
       "      <td>180</td>\n",
       "      <td>16464</td>\n",
       "      <td>16728</td>\n",
       "      <td>120610</td>\n",
       "      <td>109264</td>\n",
       "      <td>125314</td>\n",
       "      <td>125287</td>\n",
       "      <td>13575</td>\n",
       "      <td>20346</td>\n",
       "    </tr>\n",
       "  </tbody>\n",
       "</table>\n",
       "</div>"
      ],
      "text/plain": [
       "           winner_name     loser_name winner_ioc loser_ioc winner_hand  \\\n",
       "count           186101         186097     186099    186102      186082   \n",
       "unique            6180          10060        124       154           3   \n",
       "top     Novak Djokovic  Federico Gaio        USA       USA           R   \n",
       "freq               289            180      16464     16728      120610   \n",
       "\n",
       "       loser_hand winner_gender loser_gender winner_entry loser_entry  \n",
       "count      186030        183424       183999        25827       44154  \n",
       "unique          3             3            3           15          19  \n",
       "top             R             F            F            Q           Q  \n",
       "freq       109264        125314       125287        13575       20346  "
      ]
     },
     "execution_count": 62,
     "metadata": {},
     "output_type": "execute_result"
    }
   ],
   "source": [
    "df[['winner_name', 'loser_name', 'winner_ioc', 'loser_ioc', 'winner_hand', 'loser_hand', 'winner_gender', 'loser_gender', 'winner_entry', 'loser_entry']].describe()"
   ]
  },
  {
   "cell_type": "code",
   "execution_count": 85,
   "id": "a9165502-f44f-4e0c-aeee-8bc9518480f7",
   "metadata": {},
   "outputs": [
    {
     "data": {
      "text/plain": [
       "<AxesSubplot:title={'center':'Distribution of winner_ioc'}, xlabel='winner_ioc'>"
      ]
     },
     "execution_count": 85,
     "metadata": {},
     "output_type": "execute_result"
    },
    {
     "data": {
      "image/png": "[encoded data removed]",
      "text/plain": [
       "<Figure size 2880x720 with 1 Axes>"
      ]
     },
     "metadata": {
      "needs_background": "light"
     },
     "output_type": "display_data"
    }
   ],
   "source": [
    "lf = df.groupby([ df.winner_ioc]).size()\n",
    "lf.plot(\n",
    "    figsize=(40, 10), \n",
    "    title=\"Distribution of winner_ioc\", \n",
    "    kind='bar')"
   ]
  },
  {
   "cell_type": "code",
   "execution_count": 86,
   "id": "ae1b84eb-3a43-426c-a77f-6f43752892fc",
   "metadata": {},
   "outputs": [
    {
     "data": {
      "text/plain": [
       "<AxesSubplot:title={'center':'Distribution of loser_ioc'}, xlabel='loser_ioc'>"
      ]
     },
     "execution_count": 86,
     "metadata": {},
     "output_type": "execute_result"
    },
    {
     "data": {
      "image/png": "[encoded data removed]",
      "text/plain": [
       "<Figure size 2880x720 with 1 Axes>"
      ]
     },
     "metadata": {
      "needs_background": "light"
     },
     "output_type": "display_data"
    }
   ],
   "source": [
    "lf = df.groupby([ df.loser_ioc]).size()\n",
    "lf.plot(\n",
    "    figsize=(40, 10), \n",
    "    title=\"Distribution of loser_ioc\", \n",
    "    kind='bar')"
   ]
  },
  {
   "cell_type": "code",
   "execution_count": 88,
   "id": "a208ffef-f37d-4e8b-a0f8-ac3a9aeee338",
   "metadata": {},
   "outputs": [
    {
     "data": {
      "text/plain": [
       "<AxesSubplot:title={'center':'Distribution of best_of matches during the years'}, xlabel='winner_hand,loser_hand,winner_gender'>"
      ]
     },
     "execution_count": 88,
     "metadata": {},
     "output_type": "execute_result"
    },
    {
     "data": {
      "image/png": "[encoded data removed]",
      "text/plain": [
       "<Figure size 432x288 with 1 Axes>"
      ]
     },
     "metadata": {
      "needs_background": "light"
     },
     "output_type": "display_data"
    }
   ],
   "source": [
    "lf = df.groupby([ 'winner_hand', 'loser_hand', 'winner_gender', 'loser_gender']).size()\n",
    "lf = lf.unstack()\n",
    "lf.plot(\n",
    "    title=\"Distribution of the hand used on matches and their gender\", \n",
    "    kind='bar')"
   ]
  },
  {
   "cell_type": "code",
   "execution_count": 119,
   "id": "0979e18e-c12e-408a-9bf1-397bc073ed7d",
   "metadata": {},
   "outputs": [
    {
     "data": {
      "text/plain": [
       "<AxesSubplot:title={'center':'Distribution of winner_entry'}, xlabel='winner_entry'>"
      ]
     },
     "execution_count": 119,
     "metadata": {},
     "output_type": "execute_result"
    },
    {
     "data": {
      "image/png": "[encoded data removed]",
      "text/plain": [
       "<Figure size 432x288 with 1 Axes>"
      ]
     },
     "metadata": {
      "needs_background": "light"
     },
     "output_type": "display_data"
    }
   ],
   "source": [
    "lf = df.groupby([ 'winner_entry']).size()\n",
    "lf.plot(\n",
    "    title=\"Distribution of winner_entry\",\n",
    "    kind='bar')"
   ]
  },
  {
   "cell_type": "code",
   "execution_count": 120,
   "id": "6be4d3bb-3123-46c9-a2cd-0a3370bc7d84",
   "metadata": {},
   "outputs": [
    {
     "data": {
      "text/plain": [
       "<AxesSubplot:title={'center':'Distribution of loser_entry'}, xlabel='loser_entry'>"
      ]
     },
     "execution_count": 120,
     "metadata": {},
     "output_type": "execute_result"
    },
    {
     "data": {
      "image/png": "[encoded data removed]",
      "text/plain": [
       "<Figure size 432x288 with 1 Axes>"
      ]
     },
     "metadata": {
      "needs_background": "light"
     },
     "output_type": "display_data"
    }
   ],
   "source": [
    "rf = df.groupby([ 'loser_entry']).size()\n",
    "rf.plot(\n",
    "    title=\"Distribution of loser_entry\",\n",
    "    kind='bar')"
   ]
  },
  {
   "cell_type": "markdown",
   "id": "2fc75b8f-09b5-4681-83f3-30033f294820",
   "metadata": {},
   "source": [
    "### Players\n",
    "○ winner_id, loser_id: id of the player used in the match\n",
    "\n",
    "NOTA ?: Analysis: we should discover some relation with the id and the player name it refers\n",
    "\n",
    "○ winner_ht, loser_ht: height in centimetres, where available\n",
    "\n",
    "○ winner_age, loser_age: the age of the player, in years, depending on the date of the tournament. COSA RAPPRESENTA LA PARTE DECIMALE?\n",
    "\n",
    "Analysis: the ht and the age are attributes that should have the values inside an interval, the outliers are not only those that are too far from the mean but also from some acceptable values\n",
    "NOTA: QUESTA DECISIONE È DI COMPETENZA DELLA SINTASSI O DELLA GESTIONE DEI VALORI\n",
    "\n",
    "○ winner_rank, loser_rank: ATP or WTA rank, as of the tourney_date, or the most recent ranking date before the tourney_date\n",
    "\n",
    "○ winner_rank_points, loser_rank_points: number of ranking points, where available\n",
    "\n",
    "Analysis: we should discover some relations between the rank points and the number of aces done\n",
    "\n",
    "○ w_ace, l_ace: number of aces\n",
    "\n",
    "○ w_df, l_df: number of double faults\n",
    "\n",
    "\n",
    "○ w_svpt, l_svpt: number of serve points\n",
    "\n",
    "○ w_1stIn, l_1stIn: number of first serves made\n",
    "\n",
    "○ w_1stWon, l_1stWon: number of first-serve points won\n",
    "\n",
    "○ w_2ndWon, l_2ndWon: number of second-serve points won\n",
    "\n",
    "○ w_SvGms, l_SvGms: number of serve games\n",
    "\n",
    "○ w_bpSaved, l_bpSaved: number of breakpoints saved\n",
    "\n",
    "○ w_bpFaced, l_bpFaced: number of breakpoints faced"
   ]
  },
  {
   "cell_type": "code",
   "execution_count": 91,
   "id": "d62c4107-d1a6-4b8c-8c86-c095ca6c1d1e",
   "metadata": {},
   "outputs": [
    {
     "data": {
      "text/html": [
       "<div>\n",
       "<style scoped>\n",
       "    .dataframe tbody tr th:only-of-type {\n",
       "        vertical-align: middle;\n",
       "    }\n",
       "\n",
       "    .dataframe tbody tr th {\n",
       "        vertical-align: top;\n",
       "    }\n",
       "\n",
       "    .dataframe thead th {\n",
       "        text-align: right;\n",
       "    }\n",
       "</style>\n",
       "<table border=\"1\" class=\"dataframe\">\n",
       "  <thead>\n",
       "    <tr style=\"text-align: right;\">\n",
       "      <th></th>\n",
       "      <th>winner_id</th>\n",
       "      <th>loser_id</th>\n",
       "      <th>winner_ht</th>\n",
       "      <th>loser_ht</th>\n",
       "      <th>winner_age</th>\n",
       "      <th>loser_age</th>\n",
       "      <th>winner_rank</th>\n",
       "      <th>loser_rank</th>\n",
       "      <th>winner_rank_points</th>\n",
       "      <th>loser_rank_points</th>\n",
       "    </tr>\n",
       "  </thead>\n",
       "  <tbody>\n",
       "    <tr>\n",
       "      <th>count</th>\n",
       "      <td>186073.00</td>\n",
       "      <td>186100.00</td>\n",
       "      <td>49341.00</td>\n",
       "      <td>38348.00</td>\n",
       "      <td>183275.00</td>\n",
       "      <td>179590.00</td>\n",
       "      <td>166719.00</td>\n",
       "      <td>150845.00</td>\n",
       "      <td>166701.00</td>\n",
       "      <td>150828.00</td>\n",
       "    </tr>\n",
       "    <tr>\n",
       "      <th>mean</th>\n",
       "      <td>180151.62</td>\n",
       "      <td>181662.42</td>\n",
       "      <td>181.41</td>\n",
       "      <td>181.56</td>\n",
       "      <td>23.96</td>\n",
       "      <td>23.77</td>\n",
       "      <td>383.81</td>\n",
       "      <td>434.30</td>\n",
       "      <td>470.45</td>\n",
       "      <td>356.33</td>\n",
       "    </tr>\n",
       "    <tr>\n",
       "      <th>std</th>\n",
       "      <td>46547.17</td>\n",
       "      <td>46618.08</td>\n",
       "      <td>11.63</td>\n",
       "      <td>10.82</td>\n",
       "      <td>4.46</td>\n",
       "      <td>4.63</td>\n",
       "      <td>314.00</td>\n",
       "      <td>355.80</td>\n",
       "      <td>1041.01</td>\n",
       "      <td>702.63</td>\n",
       "    </tr>\n",
       "    <tr>\n",
       "      <th>min</th>\n",
       "      <td>100644.00</td>\n",
       "      <td>100644.00</td>\n",
       "      <td>2.00</td>\n",
       "      <td>2.00</td>\n",
       "      <td>14.04</td>\n",
       "      <td>14.01</td>\n",
       "      <td>1.00</td>\n",
       "      <td>1.00</td>\n",
       "      <td>1.00</td>\n",
       "      <td>1.00</td>\n",
       "    </tr>\n",
       "    <tr>\n",
       "      <th>25%</th>\n",
       "      <td>122425.00</td>\n",
       "      <td>124116.00</td>\n",
       "      <td>175.00</td>\n",
       "      <td>175.00</td>\n",
       "      <td>20.49</td>\n",
       "      <td>20.13</td>\n",
       "      <td>137.00</td>\n",
       "      <td>157.00</td>\n",
       "      <td>49.00</td>\n",
       "      <td>35.00</td>\n",
       "    </tr>\n",
       "    <tr>\n",
       "      <th>50%</th>\n",
       "      <td>203530.00</td>\n",
       "      <td>205815.00</td>\n",
       "      <td>183.00</td>\n",
       "      <td>183.00</td>\n",
       "      <td>23.46</td>\n",
       "      <td>23.23</td>\n",
       "      <td>298.00</td>\n",
       "      <td>325.00</td>\n",
       "      <td>161.00</td>\n",
       "      <td>138.00</td>\n",
       "    </tr>\n",
       "    <tr>\n",
       "      <th>75%</th>\n",
       "      <td>214152.00</td>\n",
       "      <td>214818.00</td>\n",
       "      <td>188.00</td>\n",
       "      <td>188.00</td>\n",
       "      <td>26.87</td>\n",
       "      <td>26.77</td>\n",
       "      <td>562.00</td>\n",
       "      <td>642.00</td>\n",
       "      <td>438.00</td>\n",
       "      <td>377.00</td>\n",
       "    </tr>\n",
       "    <tr>\n",
       "      <th>max</th>\n",
       "      <td>245099.00</td>\n",
       "      <td>245099.00</td>\n",
       "      <td>211.00</td>\n",
       "      <td>211.00</td>\n",
       "      <td>95.00</td>\n",
       "      <td>74.49</td>\n",
       "      <td>2220.00</td>\n",
       "      <td>2257.00</td>\n",
       "      <td>16950.00</td>\n",
       "      <td>16950.00</td>\n",
       "    </tr>\n",
       "  </tbody>\n",
       "</table>\n",
       "</div>"
      ],
      "text/plain": [
       "       winner_id  loser_id  winner_ht  loser_ht  winner_age  loser_age  \\\n",
       "count  186073.00 186100.00   49341.00  38348.00   183275.00  179590.00   \n",
       "mean   180151.62 181662.42     181.41    181.56       23.96      23.77   \n",
       "std     46547.17  46618.08      11.63     10.82        4.46       4.63   \n",
       "min    100644.00 100644.00       2.00      2.00       14.04      14.01   \n",
       "25%    122425.00 124116.00     175.00    175.00       20.49      20.13   \n",
       "50%    203530.00 205815.00     183.00    183.00       23.46      23.23   \n",
       "75%    214152.00 214818.00     188.00    188.00       26.87      26.77   \n",
       "max    245099.00 245099.00     211.00    211.00       95.00      74.49   \n",
       "\n",
       "       winner_rank  loser_rank  winner_rank_points  loser_rank_points  \n",
       "count    166719.00   150845.00           166701.00          150828.00  \n",
       "mean        383.81      434.30              470.45             356.33  \n",
       "std         314.00      355.80             1041.01             702.63  \n",
       "min           1.00        1.00                1.00               1.00  \n",
       "25%         137.00      157.00               49.00              35.00  \n",
       "50%         298.00      325.00              161.00             138.00  \n",
       "75%         562.00      642.00              438.00             377.00  \n",
       "max        2220.00     2257.00            16950.00           16950.00  "
      ]
     },
     "execution_count": 91,
     "metadata": {},
     "output_type": "execute_result"
    }
   ],
   "source": [
    "df[['winner_id', 'loser_id', 'winner_ht', 'loser_ht', 'winner_age', 'loser_age', 'winner_rank', 'loser_rank', 'winner_rank_points', 'loser_rank_points']].describe()"
   ]
  },
  {
   "cell_type": "code",
   "execution_count": 92,
   "id": "4afd71df-4717-46d4-a649-1bbfb516c5f1",
   "metadata": {},
   "outputs": [
    {
     "data": {
      "text/html": [
       "<div>\n",
       "<style scoped>\n",
       "    .dataframe tbody tr th:only-of-type {\n",
       "        vertical-align: middle;\n",
       "    }\n",
       "\n",
       "    .dataframe tbody tr th {\n",
       "        vertical-align: top;\n",
       "    }\n",
       "\n",
       "    .dataframe thead th {\n",
       "        text-align: right;\n",
       "    }\n",
       "</style>\n",
       "<table border=\"1\" class=\"dataframe\">\n",
       "  <thead>\n",
       "    <tr style=\"text-align: right;\">\n",
       "      <th></th>\n",
       "      <th>w_svpt</th>\n",
       "      <th>l_svpt</th>\n",
       "      <th>w_1stIn</th>\n",
       "      <th>l_1stIn</th>\n",
       "      <th>w_1stWon</th>\n",
       "      <th>l_1stWon</th>\n",
       "      <th>w_2ndWon</th>\n",
       "      <th>l_2ndWon</th>\n",
       "      <th>w_SvGms</th>\n",
       "      <th>l_SvGms</th>\n",
       "      <th>w_bpSaved</th>\n",
       "      <th>l_bpSaved</th>\n",
       "      <th>w_bpFaced</th>\n",
       "      <th>l_bpFaced</th>\n",
       "      <th>w_ace</th>\n",
       "      <th>l_ace</th>\n",
       "      <th>w_df</th>\n",
       "      <th>l_df</th>\n",
       "    </tr>\n",
       "  </thead>\n",
       "  <tbody>\n",
       "    <tr>\n",
       "      <th>count</th>\n",
       "      <td>82310.00</td>\n",
       "      <td>82315.00</td>\n",
       "      <td>82310.00</td>\n",
       "      <td>82304.00</td>\n",
       "      <td>82312.00</td>\n",
       "      <td>82311.00</td>\n",
       "      <td>82309.00</td>\n",
       "      <td>82312.00</td>\n",
       "      <td>82311.00</td>\n",
       "      <td>82318.00</td>\n",
       "      <td>82315.00</td>\n",
       "      <td>82311.00</td>\n",
       "      <td>82312.00</td>\n",
       "      <td>82306.00</td>\n",
       "      <td>82310.00</td>\n",
       "      <td>82313.00</td>\n",
       "      <td>82312.00</td>\n",
       "      <td>82319.00</td>\n",
       "    </tr>\n",
       "    <tr>\n",
       "      <th>mean</th>\n",
       "      <td>71.29</td>\n",
       "      <td>73.56</td>\n",
       "      <td>44.27</td>\n",
       "      <td>44.56</td>\n",
       "      <td>32.13</td>\n",
       "      <td>28.03</td>\n",
       "      <td>14.45</td>\n",
       "      <td>12.71</td>\n",
       "      <td>11.11</td>\n",
       "      <td>10.94</td>\n",
       "      <td>3.54</td>\n",
       "      <td>4.66</td>\n",
       "      <td>5.41</td>\n",
       "      <td>8.87</td>\n",
       "      <td>4.81</td>\n",
       "      <td>3.53</td>\n",
       "      <td>2.86</td>\n",
       "      <td>3.61</td>\n",
       "    </tr>\n",
       "    <tr>\n",
       "      <th>std</th>\n",
       "      <td>25.52</td>\n",
       "      <td>24.99</td>\n",
       "      <td>16.95</td>\n",
       "      <td>16.78</td>\n",
       "      <td>11.41</td>\n",
       "      <td>12.27</td>\n",
       "      <td>5.93</td>\n",
       "      <td>6.32</td>\n",
       "      <td>3.51</td>\n",
       "      <td>3.50</td>\n",
       "      <td>3.11</td>\n",
       "      <td>3.15</td>\n",
       "      <td>4.21</td>\n",
       "      <td>3.97</td>\n",
       "      <td>4.39</td>\n",
       "      <td>3.83</td>\n",
       "      <td>2.42</td>\n",
       "      <td>2.61</td>\n",
       "    </tr>\n",
       "    <tr>\n",
       "      <th>min</th>\n",
       "      <td>0.00</td>\n",
       "      <td>0.00</td>\n",
       "      <td>0.00</td>\n",
       "      <td>0.00</td>\n",
       "      <td>0.00</td>\n",
       "      <td>0.00</td>\n",
       "      <td>0.00</td>\n",
       "      <td>0.00</td>\n",
       "      <td>0.00</td>\n",
       "      <td>0.00</td>\n",
       "      <td>0.00</td>\n",
       "      <td>0.00</td>\n",
       "      <td>0.00</td>\n",
       "      <td>0.00</td>\n",
       "      <td>0.00</td>\n",
       "      <td>0.00</td>\n",
       "      <td>0.00</td>\n",
       "      <td>0.00</td>\n",
       "    </tr>\n",
       "    <tr>\n",
       "      <th>25%</th>\n",
       "      <td>53.00</td>\n",
       "      <td>56.00</td>\n",
       "      <td>32.00</td>\n",
       "      <td>33.00</td>\n",
       "      <td>24.00</td>\n",
       "      <td>19.00</td>\n",
       "      <td>10.00</td>\n",
       "      <td>8.00</td>\n",
       "      <td>9.00</td>\n",
       "      <td>9.00</td>\n",
       "      <td>1.00</td>\n",
       "      <td>2.00</td>\n",
       "      <td>2.00</td>\n",
       "      <td>6.00</td>\n",
       "      <td>2.00</td>\n",
       "      <td>1.00</td>\n",
       "      <td>1.00</td>\n",
       "      <td>2.00</td>\n",
       "    </tr>\n",
       "    <tr>\n",
       "      <th>50%</th>\n",
       "      <td>67.00</td>\n",
       "      <td>69.00</td>\n",
       "      <td>42.00</td>\n",
       "      <td>42.00</td>\n",
       "      <td>30.00</td>\n",
       "      <td>26.00</td>\n",
       "      <td>14.00</td>\n",
       "      <td>12.00</td>\n",
       "      <td>10.00</td>\n",
       "      <td>10.00</td>\n",
       "      <td>3.00</td>\n",
       "      <td>4.00</td>\n",
       "      <td>5.00</td>\n",
       "      <td>8.00</td>\n",
       "      <td>4.00</td>\n",
       "      <td>2.00</td>\n",
       "      <td>2.00</td>\n",
       "      <td>3.00</td>\n",
       "    </tr>\n",
       "    <tr>\n",
       "      <th>75%</th>\n",
       "      <td>87.00</td>\n",
       "      <td>88.00</td>\n",
       "      <td>54.00</td>\n",
       "      <td>54.00</td>\n",
       "      <td>38.00</td>\n",
       "      <td>35.00</td>\n",
       "      <td>18.00</td>\n",
       "      <td>16.00</td>\n",
       "      <td>14.00</td>\n",
       "      <td>13.00</td>\n",
       "      <td>5.00</td>\n",
       "      <td>6.00</td>\n",
       "      <td>8.00</td>\n",
       "      <td>11.00</td>\n",
       "      <td>7.00</td>\n",
       "      <td>5.00</td>\n",
       "      <td>4.00</td>\n",
       "      <td>5.00</td>\n",
       "    </tr>\n",
       "    <tr>\n",
       "      <th>max</th>\n",
       "      <td>1957.00</td>\n",
       "      <td>1672.00</td>\n",
       "      <td>1330.00</td>\n",
       "      <td>893.00</td>\n",
       "      <td>836.00</td>\n",
       "      <td>532.00</td>\n",
       "      <td>304.00</td>\n",
       "      <td>399.00</td>\n",
       "      <td>49.00</td>\n",
       "      <td>50.00</td>\n",
       "      <td>209.00</td>\n",
       "      <td>120.00</td>\n",
       "      <td>266.00</td>\n",
       "      <td>190.00</td>\n",
       "      <td>75.00</td>\n",
       "      <td>67.00</td>\n",
       "      <td>114.00</td>\n",
       "      <td>114.00</td>\n",
       "    </tr>\n",
       "  </tbody>\n",
       "</table>\n",
       "</div>"
      ],
      "text/plain": [
       "        w_svpt   l_svpt  w_1stIn  l_1stIn  w_1stWon  l_1stWon  w_2ndWon  \\\n",
       "count 82310.00 82315.00 82310.00 82304.00  82312.00  82311.00  82309.00   \n",
       "mean     71.29    73.56    44.27    44.56     32.13     28.03     14.45   \n",
       "std      25.52    24.99    16.95    16.78     11.41     12.27      5.93   \n",
       "min       0.00     0.00     0.00     0.00      0.00      0.00      0.00   \n",
       "25%      53.00    56.00    32.00    33.00     24.00     19.00     10.00   \n",
       "50%      67.00    69.00    42.00    42.00     30.00     26.00     14.00   \n",
       "75%      87.00    88.00    54.00    54.00     38.00     35.00     18.00   \n",
       "max    1957.00  1672.00  1330.00   893.00    836.00    532.00    304.00   \n",
       "\n",
       "       l_2ndWon  w_SvGms  l_SvGms  w_bpSaved  l_bpSaved  w_bpFaced  l_bpFaced  \\\n",
       "count  82312.00 82311.00 82318.00   82315.00   82311.00   82312.00   82306.00   \n",
       "mean      12.71    11.11    10.94       3.54       4.66       5.41       8.87   \n",
       "std        6.32     3.51     3.50       3.11       3.15       4.21       3.97   \n",
       "min        0.00     0.00     0.00       0.00       0.00       0.00       0.00   \n",
       "25%        8.00     9.00     9.00       1.00       2.00       2.00       6.00   \n",
       "50%       12.00    10.00    10.00       3.00       4.00       5.00       8.00   \n",
       "75%       16.00    14.00    13.00       5.00       6.00       8.00      11.00   \n",
       "max      399.00    49.00    50.00     209.00     120.00     266.00     190.00   \n",
       "\n",
       "         w_ace    l_ace     w_df     l_df  \n",
       "count 82310.00 82313.00 82312.00 82319.00  \n",
       "mean      4.81     3.53     2.86     3.61  \n",
       "std       4.39     3.83     2.42     2.61  \n",
       "min       0.00     0.00     0.00     0.00  \n",
       "25%       2.00     1.00     1.00     2.00  \n",
       "50%       4.00     2.00     2.00     3.00  \n",
       "75%       7.00     5.00     4.00     5.00  \n",
       "max      75.00    67.00   114.00   114.00  "
      ]
     },
     "execution_count": 113,
     "metadata": {},
     "output_type": "execute_result"
    }
   ],
   "source": [
    "df[['w_svpt', 'l_svpt', 'w_1stIn', 'l_1stIn', 'w_1stWon', 'l_1stWon', 'w_2ndWon', 'l_2ndWon', 'w_SvGms', 'l_SvGms', 'w_bpSaved', 'l_bpSaved', 'w_bpFaced', 'l_bpFaced', 'w_ace', 'l_ace', 'w_df', 'l_df']].describe()"
   ]
  },
  {
   "cell_type": "code",
   "execution_count": null,
   "id": "bf3ac4d2-e59f-42c9-96fd-8f5bfeee7e49",
   "metadata": {},
   "outputs": [],
   "source": []
  },
  {
   "cell_type": "markdown",
   "id": "55daf69c",
   "metadata": {},
   "source": []
  },
  {
   "cell_type": "markdown",
   "id": "01c33fd9",
   "metadata": {},
   "source": [
    "### match_num PARTE DI CONTROLLO DELLA SINTASSI\n",
    "\n",
    "a match-specific identifier. Often starting from 1, sometimes counting down from 300, and sometimes arbitrary.\n",
    "\n",
    "Analysis: I can convert in integer values and left nan in value 0 because my values is limited in a range [1,300]"
   ]
  },
  {
   "cell_type": "code",
   "execution_count": null,
   "id": "44f4fcbc",
   "metadata": {},
   "outputs": [],
   "source": [
    "print(\"null values:\",  df['match_num'].isnull().sum())"
   ]
  },
  {
   "cell_type": "markdown",
   "id": "292f0312",
   "metadata": {},
   "source": [
    "### draw_size PARTE DI CONTROLLO DELLA SINTASSI \n",
    "Analysis: since all powers of 2 are integers the idea is to convert to the 'int' format. In this case we can have undefined number errors so I consider undefined numbers 0 (controllare se è una soluzione corretta)"
   ]
  },
  {
   "cell_type": "code",
   "execution_count": 60,
   "id": "6f2ec4b1",
   "metadata": {},
   "outputs": [
    {
     "data": {
      "text/plain": [
       "array([ 32., 128.,  64.,   8.,   4.,  16.,   2.,  nan])"
      ]
     },
     "execution_count": 60,
     "metadata": {},
     "output_type": "execute_result"
    }
   ],
   "source": [
    "dw = df['draw_size']\n",
    "log= np.log2(df['draw_size'])\n",
    "for i in range(0, len(log)):\n",
    "    dec, inter = math.modf(log[i])\n",
    "    if dec == 0:\n",
    "        log[i] = inter\n",
    "    else:\n",
    "        log[i] = inter + 1\n",
    "dw = pow(2, log)\n",
    "df['draw_size'] = dw\n",
    "#df['draw_size'].unique()"
   ]
  },
  {
   "cell_type": "code",
   "execution_count": 101,
   "id": "b53d6b84",
   "metadata": {},
   "outputs": [],
   "source": [
    "df['winner_ht']=np.nan_to_num(df['winner_ht']).astype(int)\n",
    "#df['winner_ht'].head()\n",
    "# ANCHE IL CONTROLLO DEGLI INTERVALLI DI VALORI AMISSIBILI È PARTE DELLA PARTE DI SINTASSI"
   ]
  },
  {
   "cell_type": "markdown",
   "id": "254c4f2a",
   "metadata": {},
   "source": [
    "## w_ace l_ace"
   ]
  },
  {
   "cell_type": "code",
   "execution_count": 93,
   "id": "27e6d5c3",
   "metadata": {
    "scrolled": true
   },
   "outputs": [
    {
     "name": "stdout",
     "output_type": "stream",
     "text": [
      "[ 3. 10.  2. 12.  5. 11.  1. 16. 21. 17. 15.  6.  7. 18. 44.  9.  8.  4.\n",
      "  0. 14. 13. nan 33. 25. 20. 22. 26. 40. 19. 28. 29. 24. 30. 39. 23. 43.\n",
      " 27. 32. 38. 35. 31. 48. 53. 36. 42. 34. 64. 37. 49. 45. 75. 41. 51. 61.\n",
      " 46. 72. 52.]\n",
      "[ 8. 17. 10.  1. 29. 12.  3.  5.  6. 13.  7.  4. 27. 22.  2.  0. 11. 20.\n",
      "  9. nan 14. 36. 26. 15. 16. 47. 24. 18. 25. 21. 59. 28. 19. 23. 67. 38.\n",
      " 37. 30. 34. 33. 31. 32. 40. 35. 52. 61. 53. 44. 45. 46. 56. 43. 39.]\n"
     ]
    }
   ],
   "source": [
    "#df['w_ace']=df['w_ace'].fillna(-1)\n",
    "#df['w_ace']=df['w_ace'].astype(int)\n",
    "print(df['w_ace'].unique())\n",
    "print(df['l_ace'].unique())"
   ]
  },
  {
   "cell_type": "markdown",
   "id": "4dca1fb9",
   "metadata": {},
   "source": [
    "## w_df      l_df"
   ]
  },
  {
   "cell_type": "code",
   "execution_count": 94,
   "id": "2518417d",
   "metadata": {},
   "outputs": [
    {
     "name": "stdout",
     "output_type": "stream",
     "text": [
      "[  3.   1.   2.   8.   5.   0.   4.   6.   7.   9.  nan  10.  14.  12.\n",
      "  11.  13.  18.  19.  15.  26.  17.  25.  16.  20.  21.  22.  23.  24.\n",
      " 114.  72.  28.  45.]\n",
      "[  6.   2.   3.   5.   7.   0.   1.   4.  10.   8.   9.  nan  12.  11.\n",
      "  13.  16.  15.  17.  14.  20.  21.  28.  18.  22.  19.  23.  26.  25.\n",
      "  31. 114.  40.  36.]\n"
     ]
    }
   ],
   "source": [
    "print(df['w_df'].unique())\n",
    "print(df['l_df'].unique())"
   ]
  },
  {
   "cell_type": "markdown",
   "id": "bb39a646",
   "metadata": {},
   "source": [
    "## w_svpt   l_svpt"
   ]
  },
  {
   "cell_type": "code",
   "execution_count": 96,
   "id": "0014930d",
   "metadata": {},
   "outputs": [],
   "source": [
    "#print(df['w_svpt'].unique())\n",
    "#print(df['l_svpt'].unique())"
   ]
  },
  {
   "cell_type": "markdown",
   "id": "748f87c2",
   "metadata": {},
   "source": [
    "## w_1st    ln l_1stln"
   ]
  },
  {
   "cell_type": "code",
   "execution_count": 97,
   "id": "b6076a6a",
   "metadata": {},
   "outputs": [
    {
     "name": "stdout",
     "output_type": "stream",
     "text": [
      "[ 54.  52.  27.  60.  56.  53.  51.  39.  44.  59.  50.  37.  36.  46.\n",
      "  33.  31.  34.  29.  30.  77.  41.  45.  63.  72.  58.  24.  23.  74.\n",
      "  42.  69.  35.  26.  22.  40.  62.  18.  28.  65.  21.  55.  19.  48.\n",
      "  81.  73.  38.  67.  47.  32.  61.  nan  75.  70.  49.  83.  80.  64.\n",
      "  66.  71.  78.  25.  68. 104.   9.  43.  57.   7. 105.  87. 102. 107.\n",
      " 120.  93.  90.  76.  95.  88. 153. 113. 124. 114.  89. 111.  79.  86.\n",
      " 118. 110. 128.  82. 108. 101. 117.  84.  97.  20.  99.  17.  91.  85.\n",
      "  92.  15.  12.  11.   6.  13.   3.   5.   0.  16. 100.  98. 109. 125.\n",
      "  96. 142. 133.   8.  94. 103. 115. 127.  10. 116. 134. 129. 126.  14.\n",
      "   2. 123. 122. 143. 154. 218. 150. 106.   4. 130. 119. 157. 112. 152.\n",
      " 132. 137. 145. 121. 138. 168. 131. 139.   1. 893. 420. 504. 320. 774.\n",
      " 136. 140.]\n"
     ]
    }
   ],
   "source": [
    "#print(df['w_1stIn'].unique())\n",
    "print(df['l_1stIn'].unique())"
   ]
  },
  {
   "cell_type": "markdown",
   "id": "385d16a5",
   "metadata": {},
   "source": [
    "## w_1stWon    l_1stWon"
   ]
  },
  {
   "cell_type": "code",
   "execution_count": 106,
   "id": "2d69b198",
   "metadata": {},
   "outputs": [
    {
     "name": "stdout",
     "output_type": "stream",
     "text": [
      "[ 54.  52.  27.  60.  56.  53.  51.  39.  44.  59.  50.  37.  36.  46.\n",
      "  33.  31.  34.  29.  30.  77.  41.  45.  63.  72.  58.  24.  23.  74.\n",
      "  42.  69.  35.  26.  22.  40.  62.  18.  28.  65.  21.  55.  19.  48.\n",
      "  81.  73.  38.  67.  47.  32.  61.  nan  75.  70.  49.  83.  80.  64.\n",
      "  66.  71.  78.  25.  68. 104.   9.  43.  57.   7. 105.  87. 102. 107.\n",
      " 120.  93.  90.  76.  95.  88. 153. 113. 124. 114.  89. 111.  79.  86.\n",
      " 118. 110. 128.  82. 108. 101. 117.  84.  97.  20.  99.  17.  91.  85.\n",
      "  92.  15.  12.  11.   6.  13.   3.   5.   0.  16. 100.  98. 109. 125.\n",
      "  96. 142. 133.   8.  94. 103. 115. 127.  10. 116. 134. 129. 126.  14.\n",
      "   2. 123. 122. 143. 154. 218. 150. 106.   4. 130. 119. 157. 112. 152.\n",
      " 132. 137. 145. 121. 138. 168. 131. 139.   1. 893. 420. 504. 320. 774.\n",
      " 136. 140.]\n"
     ]
    }
   ],
   "source": [
    "#print(df['w_1stIn'].unique())\n",
    "print(df['l_1stIn'].unique())"
   ]
  },
  {
   "cell_type": "markdown",
   "id": "a35e6672",
   "metadata": {},
   "source": [
    "## w_2ndWon  l_2ndWon"
   ]
  },
  {
   "cell_type": "code",
   "execution_count": 105,
   "id": "72e14292",
   "metadata": {},
   "outputs": [
    {
     "name": "stdout",
     "output_type": "stream",
     "text": [
      "[ 20.   7.   6.   9.  19.  18.  13.  11.   3.  10.  14.   8.  12.   4.\n",
      "   2.  24.  22.  27.  34.   5.  31.  15.  23.  21.  16.  17.  nan  26.\n",
      "  25.  28.  35.  30.  42.  32.  29.  33.  38.  39.  36.   1.   0.  43.\n",
      "  37.  49.  41.  40.  45.  50.  44.  46.  54.  55.  53.  51.  48. 399.\n",
      " 200.  56.  68.  47.]\n"
     ]
    }
   ],
   "source": [
    "#print(df['w_2ndWon'].unique())\n",
    "print(df['l_2ndWon'].unique())"
   ]
  },
  {
   "cell_type": "markdown",
   "id": "03906e32",
   "metadata": {},
   "source": [
    "## w_SvGms    l_SvGms"
   ]
  },
  {
   "cell_type": "code",
   "execution_count": 104,
   "id": "6863ae8a",
   "metadata": {},
   "outputs": [
    {
     "name": "stdout",
     "output_type": "stream",
     "text": [
      "[14. 10.  8. 11. 15. 12.  9.  7. 18. 17. 13. 16. nan  6.  1.  2. 24. 21.\n",
      " 23. 19. 22. 20. 28. 25. 26. 27.  4.  5.  0. 30. 29.  3. 34. 31. 36. 33.\n",
      " 50. 32. 41. 35. 38.]\n"
     ]
    }
   ],
   "source": [
    "#print(df['w_SvGms'].unique())\n",
    "print(df['l_SvGms'].unique())"
   ]
  },
  {
   "cell_type": "markdown",
   "id": "51f95c9b",
   "metadata": {},
   "source": [
    "## w_bpSaved   l_bpSaved"
   ]
  },
  {
   "cell_type": "code",
   "execution_count": 103,
   "id": "f1193bbc",
   "metadata": {},
   "outputs": [
    {
     "name": "stdout",
     "output_type": "stream",
     "text": [
      "[ 10.   1.   4.   2.   6.   3.   8.   5.   0.  13.   9.  20.   7.  11.\n",
      "  12.  nan  14.  15.  16.  18.  19.  17.  21.  23.  22.  24.  25.  27.\n",
      " 114. 120.  32.  40.  81.]\n"
     ]
    }
   ],
   "source": [
    "#print(df['w_bpSaved'].unique())\n",
    "print(df['l_bpSaved'].unique())"
   ]
  },
  {
   "cell_type": "markdown",
   "id": "066baa6b",
   "metadata": {},
   "source": [
    "## w_bpFaced   l_bpFaced"
   ]
  },
  {
   "cell_type": "code",
   "execution_count": 102,
   "id": "cc9015f8",
   "metadata": {},
   "outputs": [
    {
     "name": "stdout",
     "output_type": "stream",
     "text": [
      "[ 15.  13.   5.   6.   4.   9.  11.   3.   2.   7.   8.   1.  18.  10.\n",
      "  25.  19.  14.  17.  nan  12.   0.  16.  20.  21.  22.  23.  24.  29.\n",
      "  26.  27.  28.  30.  31.  35. 190. 170.  48.  60. 180.]\n"
     ]
    }
   ],
   "source": [
    "#print(df['w_bpFaced'].unique())\n",
    "print(df['l_bpFaced'].unique())"
   ]
  },
  {
   "cell_type": "code",
   "execution_count": null,
   "id": "af99d010",
   "metadata": {},
   "outputs": [],
   "source": []
  },
  {
   "cell_type": "code",
   "execution_count": null,
   "id": "d7113b02",
   "metadata": {},
   "outputs": [],
   "source": []
  }
 ],
 "metadata": {
  "kernelspec": {
   "display_name": "Python 3 (ipykernel)",
   "language": "python",
   "name": "python3"
  },
  "language_info": {
   "codemirror_mode": {
    "name": "ipython",
    "version": 3
   },
   "file_extension": ".py",
   "mimetype": "text/x-python",
   "name": "python",
   "nbconvert_exporter": "python",
   "pygments_lexer": "ipython3",
   "version": "3.8.2"
  }
 },
 "nbformat": 4,
 "nbformat_minor": 5
}
