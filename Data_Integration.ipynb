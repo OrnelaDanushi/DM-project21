{
 "cells": [
  {
   "cell_type": "markdown",
   "metadata": {},
   "source": [
    "## Loading Data and Data integration\n",
    "in this notebook we load and create our dataset that we'll use for the rest of the project"
   ]
  },
  {
   "cell_type": "code",
   "execution_count": 1,
   "metadata": {},
   "outputs": [],
   "source": [
    "import pandas as pd"
   ]
  },
  {
   "cell_type": "markdown",
   "metadata": {},
   "source": [
    "## Loading the data set\n",
    "\n",
    "Read the .csv file containing the data. The first line contains the list of attributes. The data is assigned to a Pandas dataframe."
   ]
  },
  {
   "cell_type": "code",
   "execution_count": 2,
   "metadata": {
    "scrolled": true
   },
   "outputs": [
    {
     "name": "stdout",
     "output_type": "stream",
     "text": [
      "  tourney_id tourney_name surface  draw_size tourney_level  tourney_date  \\\n",
      "0  2019-M020     Brisbane    Hard       32.0             A    20181231.0   \n",
      "1  2019-M020     Brisbane    Hard       32.0             A    20181231.0   \n",
      "2  2019-M020     Brisbane    Hard       32.0             A    20181231.0   \n",
      "3  2019-M020     Brisbane    Hard       32.0             A    20181231.0   \n",
      "4  2019-M020     Brisbane    Hard       32.0             A    20181231.0   \n",
      "\n",
      "   match_num  winner_id winner_entry         winner_name  ... l_2ndWon  \\\n",
      "0      300.0   105453.0          NaN       Kei Nishikori  ...     20.0   \n",
      "1      299.0   106421.0          NaN     Daniil Medvedev  ...      7.0   \n",
      "2      298.0   105453.0          NaN       Kei Nishikori  ...      6.0   \n",
      "3      297.0   104542.0           PR  Jo-Wilfried Tsonga  ...      9.0   \n",
      "4      296.0   106421.0          NaN     Daniil Medvedev  ...     19.0   \n",
      "\n",
      "   l_SvGms l_bpSaved  l_bpFaced  winner_rank winner_rank_points loser_rank  \\\n",
      "0     14.0      10.0       15.0          9.0             3590.0       16.0   \n",
      "1     10.0      10.0       13.0         16.0             1977.0      239.0   \n",
      "2      8.0       1.0        5.0          9.0             3590.0       40.0   \n",
      "3     11.0       4.0        6.0        239.0              200.0       31.0   \n",
      "4     15.0       2.0        4.0         16.0             1977.0       18.0   \n",
      "\n",
      "  loser_rank_points  tourney_spectators tourney_revenue  \n",
      "0            1977.0              3928.0       742618.69  \n",
      "1             200.0              3928.0       742618.69  \n",
      "2            1050.0              3928.0       742618.69  \n",
      "3            1298.0              3928.0       742618.69  \n",
      "4            1855.0              3928.0       742618.69  \n",
      "\n",
      "[5 rows x 49 columns]\n"
     ]
    }
   ],
   "source": [
    "df = pd.read_csv('tennis_matches.csv', index_col = 0)#, sep=',', index_col=0) #alternative in case of json source df.to_json('filename.json')\n",
    "print(df.head()) #print the first records of a df, \n",
    "# print()\n",
    "# print(df.tail()) #print the last records of a df."
   ]
  },
  {
   "cell_type": "markdown",
   "metadata": {},
   "source": [
    "# Data Integration\n",
    "We load another table containing the name and surname of male and female people, we eliminate duplicates, mark NaN genders as 'U' and concatenate Female and Male tables in a unique table called table_gender"
   ]
  },
  {
   "cell_type": "code",
   "execution_count": 3,
   "metadata": {},
   "outputs": [],
   "source": [
    "df_male = pd.read_csv('male_players.csv')#, sep=',') \n",
    "df_male.dropna(inplace=True)\n",
    "df_male_names = pd.DataFrame()\n",
    "df_male_names['Name'] = df_male['name'].astype(str) + \" \" + df_male['surname'].astype(str)\n",
    "df_male_names.drop_duplicates(inplace=True)\n",
    "\n",
    "#print(df_male_names.isna().sum())\n",
    "#print(df_male_names.isnull().sum())\n",
    "#print(df_male_names.describe())\n",
    "#print(df_male_names)\n",
    "\n",
    "df_male_names.insert(1, 'gender', 'M', allow_duplicates=True)\n",
    "#print(df_male_names)\n",
    "\n",
    "df_female = pd.read_csv('female_players.csv')#, sep=',') \n",
    "df_female.dropna(inplace=True)\n",
    "df_female_names = pd.DataFrame()\n",
    "df_female_names['Name'] = df_female['name'].astype(str) + \" \" + df_female['surname'].astype(str)\n",
    "df_female_names.drop_duplicates(inplace=True)\n",
    "df_female_names.insert(1, 'gender', 'F', allow_duplicates=True)\n",
    "#print(df_female_names)\n",
    "\n",
    "\n",
    "result = pd.concat([df_male_names, df_female_names]) #we create a new table to have the global view\n",
    "#print(result.duplicated(subset=['Name']).any())\n",
    "#print(result.describe())\n",
    "\n",
    "pd.options.mode.chained_assignment = None \n",
    "\n",
    "duplicateDFRow = result[result.duplicated(['Name'], keep=False)]\n",
    "duplicateDFRow.drop_duplicates(subset=['Name'], inplace=True)\n",
    "duplicateDFRow['gender'].replace({\"M\": 'U'},inplace=True)\n",
    "\n",
    "#print(result.describe())\n",
    "#print(duplicateDFRow.describe())\n",
    "\n",
    "table_gender = pd.concat([result, duplicateDFRow]) \n",
    "\n",
    "table_gender.drop_duplicates(subset=['Name'], keep='last', inplace=True)\n",
    "\n",
    "#print(table_gender['gender'].describe())"
   ]
  },
  {
   "cell_type": "markdown",
   "metadata": {},
   "source": [
    "Then we join the matches' table with the table_gender"
   ]
  },
  {
   "cell_type": "code",
   "execution_count": 4,
   "metadata": {},
   "outputs": [
    {
     "name": "stdout",
     "output_type": "stream",
     "text": [
      "  tourney_id tourney_name surface  draw_size tourney_level  tourney_date  \\\n",
      "0  2019-M020     Brisbane    Hard       32.0             A    20181231.0   \n",
      "1  2019-M020     Brisbane    Hard       32.0             A    20181231.0   \n",
      "2  2019-M020     Brisbane    Hard       32.0             A    20181231.0   \n",
      "3  2019-M020     Brisbane    Hard       32.0             A    20181231.0   \n",
      "4  2019-M020     Brisbane    Hard       32.0             A    20181231.0   \n",
      "\n",
      "   match_num  winner_id winner_entry         winner_name  ... l_bpSaved  \\\n",
      "0      300.0   105453.0          NaN       Kei Nishikori  ...      10.0   \n",
      "1      299.0   106421.0          NaN     Daniil Medvedev  ...      10.0   \n",
      "2      298.0   105453.0          NaN       Kei Nishikori  ...       1.0   \n",
      "3      297.0   104542.0           PR  Jo-Wilfried Tsonga  ...       4.0   \n",
      "4      296.0   106421.0          NaN     Daniil Medvedev  ...       2.0   \n",
      "\n",
      "   l_bpFaced winner_rank  winner_rank_points  loser_rank loser_rank_points  \\\n",
      "0       15.0         9.0              3590.0        16.0            1977.0   \n",
      "1       13.0        16.0              1977.0       239.0             200.0   \n",
      "2        5.0         9.0              3590.0        40.0            1050.0   \n",
      "3        6.0       239.0               200.0        31.0            1298.0   \n",
      "4        4.0        16.0              1977.0        18.0            1855.0   \n",
      "\n",
      "  tourney_spectators tourney_revenue  winner_gender loser_gender  \n",
      "0             3928.0       742618.69              M            M  \n",
      "1             3928.0       742618.69              M          NaN  \n",
      "2             3928.0       742618.69              M            M  \n",
      "3             3928.0       742618.69            NaN            M  \n",
      "4             3928.0       742618.69              M            M  \n",
      "\n",
      "[5 rows x 51 columns]\n",
      "<class 'pandas.core.frame.DataFrame'>\n",
      "Int64Index: 186128 entries, 0 to 186127\n",
      "Data columns (total 51 columns):\n",
      " #   Column              Non-Null Count   Dtype  \n",
      "---  ------              --------------   -----  \n",
      " 0   tourney_id          186073 non-null  object \n",
      " 1   tourney_name        186103 non-null  object \n",
      " 2   surface             185940 non-null  object \n",
      " 3   draw_size           186099 non-null  float64\n",
      " 4   tourney_level       186099 non-null  object \n",
      " 5   tourney_date        186100 non-null  float64\n",
      " 6   match_num           186101 non-null  float64\n",
      " 7   winner_id           186073 non-null  float64\n",
      " 8   winner_entry        25827 non-null   object \n",
      " 9   winner_name         186101 non-null  object \n",
      " 10  winner_hand         186082 non-null  object \n",
      " 11  winner_ht           49341 non-null   float64\n",
      " 12  winner_ioc          186099 non-null  object \n",
      " 13  winner_age          183275 non-null  float64\n",
      " 14  loser_id            186100 non-null  float64\n",
      " 15  loser_entry         44154 non-null   object \n",
      " 16  loser_name          186097 non-null  object \n",
      " 17  loser_hand          186030 non-null  object \n",
      " 18  loser_ht            38348 non-null   float64\n",
      " 19  loser_ioc           186102 non-null  object \n",
      " 20  loser_age           179590 non-null  float64\n",
      " 21  score               185929 non-null  object \n",
      " 22  best_of             186099 non-null  float64\n",
      " 23  round               186098 non-null  object \n",
      " 24  minutes             81660 non-null   float64\n",
      " 25  w_ace               82310 non-null   float64\n",
      " 26  w_df                82312 non-null   float64\n",
      " 27  w_svpt              82310 non-null   float64\n",
      " 28  w_1stIn             82310 non-null   float64\n",
      " 29  w_1stWon            82312 non-null   float64\n",
      " 30  w_2ndWon            82309 non-null   float64\n",
      " 31  w_SvGms             82311 non-null   float64\n",
      " 32  w_bpSaved           82315 non-null   float64\n",
      " 33  w_bpFaced           82312 non-null   float64\n",
      " 34  l_ace               82313 non-null   float64\n",
      " 35  l_df                82319 non-null   float64\n",
      " 36  l_svpt              82315 non-null   float64\n",
      " 37  l_1stIn             82304 non-null   float64\n",
      " 38  l_1stWon            82311 non-null   float64\n",
      " 39  l_2ndWon            82312 non-null   float64\n",
      " 40  l_SvGms             82318 non-null   float64\n",
      " 41  l_bpSaved           82311 non-null   float64\n",
      " 42  l_bpFaced           82306 non-null   float64\n",
      " 43  winner_rank         166719 non-null  float64\n",
      " 44  winner_rank_points  166701 non-null  float64\n",
      " 45  loser_rank          150845 non-null  float64\n",
      " 46  loser_rank_points   150828 non-null  float64\n",
      " 47  tourney_spectators  186101 non-null  float64\n",
      " 48  tourney_revenue     186102 non-null  float64\n",
      " 49  winner_gender       183424 non-null  object \n",
      " 50  loser_gender        183999 non-null  object \n",
      "dtypes: float64(35), object(16)\n",
      "memory usage: 73.8+ MB\n",
      "None\n"
     ]
    }
   ],
   "source": [
    "#df.drop_duplicates(inplace = True)\n",
    "matches = df\n",
    "#print(tmp.info())\n",
    "matches = matches.join(table_gender.set_index('Name'), on='winner_name')\n",
    "matches.rename(columns={'gender': 'winner_gender'}, inplace = True)\n",
    "#print(tmp['winner_name'].head(), tmp['gender'].head())\n",
    "matches = matches.join(table_gender.set_index('Name'), on='loser_name')\n",
    "matches.rename(columns={'gender': 'loser_gender'}, inplace = True)\n",
    "matches.to_csv('matches_with_gender.csv')\n",
    "print(matches.head())\n",
    "print(matches.info())"
   ]
  },
  {
   "cell_type": "code",
   "execution_count": null,
   "metadata": {},
   "outputs": [],
   "source": []
  }
 ],
 "metadata": {
  "kernelspec": {
   "display_name": "Python 3 (ipykernel)",
   "language": "python",
   "name": "python3"
  },
  "language_info": {
   "codemirror_mode": {
    "name": "ipython",
    "version": 3
   },
   "file_extension": ".py",
   "mimetype": "text/x-python",
   "name": "python",
   "nbconvert_exporter": "python",
   "pygments_lexer": "ipython3",
   "version": "3.8.2"
  }
 },
 "nbformat": 4,
 "nbformat_minor": 4
}
